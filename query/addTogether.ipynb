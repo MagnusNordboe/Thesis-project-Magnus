{
 "cells": [
  {
   "cell_type": "code",
   "execution_count": 3,
   "metadata": {},
   "outputs": [
    {
     "ename": "IndexError",
     "evalue": "list index out of range",
     "output_type": "error",
     "traceback": [
      "\u001b[1;31m---------------------------------------------------------------------------\u001b[0m",
      "\u001b[1;31mIndexError\u001b[0m                                Traceback (most recent call last)",
      "Cell \u001b[1;32mIn [3], line 12\u001b[0m\n\u001b[0;32m     10\u001b[0m values \u001b[39m=\u001b[39m row[\u001b[39m1\u001b[39m:]\n\u001b[0;32m     11\u001b[0m \u001b[39mif\u001b[39;00m idx \u001b[39min\u001b[39;00m result:\n\u001b[1;32m---> 12\u001b[0m     result[idx] \u001b[39m=\u001b[39m [result[idx][i] \u001b[39mor\u001b[39;49;00m v \u001b[39mfor\u001b[39;49;00m i, v \u001b[39min\u001b[39;49;00m \u001b[39menumerate\u001b[39;49m(values)]\n\u001b[0;32m     13\u001b[0m \u001b[39melse\u001b[39;00m:\n\u001b[0;32m     14\u001b[0m     result[idx] \u001b[39m=\u001b[39m values\n",
      "Cell \u001b[1;32mIn [3], line 12\u001b[0m, in \u001b[0;36m<listcomp>\u001b[1;34m(.0)\u001b[0m\n\u001b[0;32m     10\u001b[0m values \u001b[39m=\u001b[39m row[\u001b[39m1\u001b[39m:]\n\u001b[0;32m     11\u001b[0m \u001b[39mif\u001b[39;00m idx \u001b[39min\u001b[39;00m result:\n\u001b[1;32m---> 12\u001b[0m     result[idx] \u001b[39m=\u001b[39m [result[idx][i] \u001b[39mor\u001b[39;00m v \u001b[39mfor\u001b[39;00m i, v \u001b[39min\u001b[39;00m \u001b[39menumerate\u001b[39m(values)]\n\u001b[0;32m     13\u001b[0m \u001b[39melse\u001b[39;00m:\n\u001b[0;32m     14\u001b[0m     result[idx] \u001b[39m=\u001b[39m values\n",
      "\u001b[1;31mIndexError\u001b[0m: list index out of range"
     ]
    }
   ],
   "source": [
    "import csv\n",
    "\n",
    "reader = csv.reader(open('heavy_load_1m_stacked.csv'))\n",
    "result = {}\n",
    "\n",
    "for row in reader:\n",
    "    idx = row[0]\n",
    "    values = row[1:]\n",
    "    if idx in result:\n",
    "        result[idx] = [result[idx][i] or v for i, v in enumerate(values)]\n",
    "    else:\n",
    "        result[idx] = values\n",
    "print(result)\n",
    "#with open(\"merged\", \"w\") as f:\n",
    "#"
   ]
  },
  {
   "cell_type": "code",
   "execution_count": 6,
   "metadata": {},
   "outputs": [
    {
     "ename": "IndexError",
     "evalue": "list index out of range",
     "output_type": "error",
     "traceback": [
      "\u001b[1;31m---------------------------------------------------------------------------\u001b[0m",
      "\u001b[1;31mIndexError\u001b[0m                                Traceback (most recent call last)",
      "Cell \u001b[1;32mIn [6], line 13\u001b[0m\n\u001b[0;32m     11\u001b[0m values \u001b[39m=\u001b[39m row[\u001b[39m1\u001b[39m:]\n\u001b[0;32m     12\u001b[0m \u001b[39mif\u001b[39;00m idx \u001b[39min\u001b[39;00m result:\n\u001b[1;32m---> 13\u001b[0m     result[idx] \u001b[39m=\u001b[39m [result[idx][i] \u001b[39mor\u001b[39;49;00m v \u001b[39mfor\u001b[39;49;00m i, v \u001b[39min\u001b[39;49;00m \u001b[39menumerate\u001b[39;49m(values)]\n\u001b[0;32m     14\u001b[0m \u001b[39melse\u001b[39;00m:\n\u001b[0;32m     15\u001b[0m     result[idx] \u001b[39m=\u001b[39m values\n",
      "Cell \u001b[1;32mIn [6], line 13\u001b[0m, in \u001b[0;36m<listcomp>\u001b[1;34m(.0)\u001b[0m\n\u001b[0;32m     11\u001b[0m values \u001b[39m=\u001b[39m row[\u001b[39m1\u001b[39m:]\n\u001b[0;32m     12\u001b[0m \u001b[39mif\u001b[39;00m idx \u001b[39min\u001b[39;00m result:\n\u001b[1;32m---> 13\u001b[0m     result[idx] \u001b[39m=\u001b[39m [result[idx][i] \u001b[39mor\u001b[39;00m v \u001b[39mfor\u001b[39;00m i, v \u001b[39min\u001b[39;00m \u001b[39menumerate\u001b[39m(values)]\n\u001b[0;32m     14\u001b[0m \u001b[39melse\u001b[39;00m:\n\u001b[0;32m     15\u001b[0m     result[idx] \u001b[39m=\u001b[39m values\n",
      "\u001b[1;31mIndexError\u001b[0m: list index out of range"
     ]
    }
   ],
   "source": [
    "import csv\n",
    "reader = csv.reader(open('heavy_load_1m_stacked.csv'))\n",
    "results = []\n",
    "for row in reader:\n",
    "    if row == []:\n",
    "        continue\n",
    "    results.append(row)\n",
    "result = {}\n",
    "for row in results:\n",
    "    idx = row[0]\n",
    "    values = row[1:]\n",
    "    if idx in result:\n",
    "        result[idx] = [result[idx][i] or v for i, v in enumerate(values)]\n",
    "    else:\n",
    "        result[idx] = values\n",
    "print(result)\n"
   ]
  }
 ],
 "metadata": {
  "kernelspec": {
   "display_name": "Python 3",
   "language": "python",
   "name": "python3"
  },
  "language_info": {
   "codemirror_mode": {
    "name": "ipython",
    "version": 3
   },
   "file_extension": ".py",
   "mimetype": "text/x-python",
   "name": "python",
   "nbconvert_exporter": "python",
   "pygments_lexer": "ipython3",
   "version": "3.11.1 (tags/v3.11.1:a7a450f, Dec  6 2022, 19:58:39) [MSC v.1934 64 bit (AMD64)]"
  },
  "orig_nbformat": 4,
  "vscode": {
   "interpreter": {
    "hash": "3ecabe05d72c87138abd5588a1756d674ee9acb6f0f71aa26006671d9984b5b0"
   }
  }
 },
 "nbformat": 4,
 "nbformat_minor": 2
}
