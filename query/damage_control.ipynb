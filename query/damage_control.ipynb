{
 "cells": [
  {
   "cell_type": "code",
   "execution_count": 10,
   "metadata": {},
   "outputs": [],
   "source": [
    "import csv\n",
    "import requests\n",
    "string = \"DELETE,/customers63bec388ee11cb0001e25810,HTTPError('404 Client Error: Not Found for url: http://host.docker.internal/customers63bec388ee11cb0001e25810'),1\"\n",
    "\n",
    "#print(filterurl(string))\n",
    "def formatID(element):\n",
    "    split = element.split(\"rs\",2)\n",
    "    return \"\" + split[0] + \"rs/\" + split[1]\n",
    "\n",
    "\n",
    "def deleteRequest(id):\n",
    "    response = requests.delete(\"http://host.docker.internal/customers/\" + id)\n",
    "    if response.ok is False:\n",
    "        print(response.text, response.reason)\n",
    "        print(\"failed ID: \",id)\n",
    "\n",
    "# filename = 'userdeletionfails.csv'\n",
    "# with open(filename, 'r') as file:\n",
    "#     datareader = csv.reader(file)\n",
    "#     for row in datareader:\n",
    "#         deleteRequest(formatID(row[1]))\n",
    "\n",
    "def deleteAllUsers():\n",
    "    response = requests.get(\"http://host.docker.internal/customers\")\n",
    "    if response.ok is False:\n",
    "        print(response.text)\n",
    "    else:\n",
    "        for customer in response.json()['_embedded']['customer']:\n",
    "            deleteRequest(customer['id'])\n",
    "        #remake the default locust account for ease's sake\n",
    "        requests.post(\"http://host.docker.internal/register\", json={\"username\": \"locust\", \"email\":\"locust\",\"password\":\"locust\"})\n",
    "    \n",
    "deleteAllUsers()"
   ]
  },
  {
   "cell_type": "code",
   "execution_count": null,
   "metadata": {},
   "outputs": [],
   "source": []
  }
 ],
 "metadata": {
  "kernelspec": {
   "display_name": "Python 3",
   "language": "python",
   "name": "python3"
  },
  "language_info": {
   "codemirror_mode": {
    "name": "ipython",
    "version": 3
   },
   "file_extension": ".py",
   "mimetype": "text/x-python",
   "name": "python",
   "nbconvert_exporter": "python",
   "pygments_lexer": "ipython3",
   "version": "3.11.1 (tags/v3.11.1:a7a450f, Dec  6 2022, 19:58:39) [MSC v.1934 64 bit (AMD64)]"
  },
  "orig_nbformat": 4,
  "vscode": {
   "interpreter": {
    "hash": "3ecabe05d72c87138abd5588a1756d674ee9acb6f0f71aa26006671d9984b5b0"
   }
  }
 },
 "nbformat": 4,
 "nbformat_minor": 2
}
