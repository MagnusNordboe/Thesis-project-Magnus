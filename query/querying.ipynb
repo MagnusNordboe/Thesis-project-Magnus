{
 "cells": [
  {
   "cell_type": "code",
   "execution_count": 14,
   "metadata": {},
   "outputs": [],
   "source": [
    "import csv\n",
    "import requests\n",
    "import datetime\n",
    "\n",
    "\"\"\"\n",
    "A simple program to print the result of a Prometheus query as CSV.\n",
    "\"\"\"\n",
    "def query_csv(q, comment):\n",
    "    # if len(sys.argv) != 3:\n",
    "    #     print('Usage: {0} http://prometheus:9090 a_query'.format(sys.argv[0]))\n",
    "    #     sys.exit(1)\n",
    "\n",
    "    response = requests.get('http://localhost:9090/api/v1/query',\n",
    "            params={'query': q})\n",
    "    results = response.json()['data']['result']\n",
    "\n",
    "    # Build a list of all labelnames used.\n",
    "    labelnames = set()\n",
    "    for result in results:\n",
    "        labelnames.update(result['metric'].keys())\n",
    "\n",
    "    # Canonicalize\n",
    "    labelnames.discard('__name__')\n",
    "    labelnames = sorted(labelnames)\n",
    "\n",
    "    with open('test.csv', mode='a') as f:\n",
    "        writer = csv.writer(f)\n",
    "        # Write the header,\n",
    "        writer.writerow(['time:', str(datetime.datetime.now()), 'comment:',comment])\n",
    "        writer.writerow(['name', 'timestamp', 'value'] + labelnames)\n",
    "\n",
    "        # Write the samples.\n",
    "        for result in results:\n",
    "            l = [result['metric'].get('__name__', '')] + result['value']\n",
    "            for label in labelnames:\n",
    "                l.append(result['metric'].get(label, ''))\n",
    "            writer.writerow(l)\n",
    "            "
   ]
  },
  {
   "cell_type": "code",
   "execution_count": 15,
   "metadata": {},
   "outputs": [],
   "source": [
    "query_csv('avg by (job, instance, mode) (rate(process_cpu_seconds_total[5m]))', 'test1 after setup')"
   ]
  }
 ],
 "metadata": {
  "kernelspec": {
   "display_name": "Python 3.11.0 64-bit (microsoft store)",
   "language": "python",
   "name": "python3"
  },
  "language_info": {
   "codemirror_mode": {
    "name": "ipython",
    "version": 3
   },
   "file_extension": ".py",
   "mimetype": "text/x-python",
   "name": "python",
   "nbconvert_exporter": "python",
   "pygments_lexer": "ipython3",
   "version": "3.11.0"
  },
  "orig_nbformat": 4,
  "vscode": {
   "interpreter": {
    "hash": "3ecabe05d72c87138abd5588a1756d674ee9acb6f0f71aa26006671d9984b5b0"
   }
  }
 },
 "nbformat": 4,
 "nbformat_minor": 2
}
