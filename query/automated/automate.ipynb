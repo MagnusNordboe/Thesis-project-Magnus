{
 "cells": [
  {
   "cell_type": "code",
   "execution_count": 19,
   "metadata": {},
   "outputs": [],
   "source": [
    "import subprocess\n",
    "import json\n",
    "def cmd(cmd):\n",
    "    completed = subprocess.run([\"powershell\", \"-Command\", cmd], capture_output=True)\n",
    "    \n",
    "    return completed\n",
    "#Run a test with the same exact duration and interval. One with no load, the other with heavy load. Then perform delta on delta metrics. Include useless metrics for now.\n",
    "#What does this accomplish?\n",
    "#See the direct differences between the load and no load. Didnt I already do this before the break with a load vs no load in one test?\n",
    "#Better to somehow automate data generation.\n",
    "#Base locust command:\n",
    "#docker run -p 8089:8089 --name locustfile_complete_rev3 --mount type=bind,source=$pwd/locustfiles,target=/mnt/locust locustio/locust -f /mnt/locust/locustfile_complete.py --headless -u XXX -r XXX\n",
    "def buildCommand(file, users, spawnrate, runtime):\n",
    "    base = \"docker run -p 8089:8089 --name {} --mount type=bind,source=$pwd/locustfiles,target=/mnt/locust locustio/locust -f /mnt/locust/{} --headless -u {} -r {} --run-time {} --host http://host.docker.internal \"\n",
    "    name = file + str(users) + str(spawnrate) + str(runtime)\n",
    "    return base.format(name, file, users, spawnrate, runtime)\n",
    "\n"
   ]
  },
  {
   "cell_type": "code",
   "execution_count": 20,
   "metadata": {},
   "outputs": [
    {
     "name": "stdout",
     "output_type": "stream",
     "text": [
      "docker run -p 8089:8089 --name locustfile1001060s --mount type=bind,source=$pwd/locustfiles,target=/mnt/locust locustio/locust -f /mnt/locust/locustfile --headless -u 100 -r 10 --run-time 60s --host http://host.docker.internal \n"
     ]
    }
   ],
   "source": [
    "def testing():\n",
    "    #result = cmd(\"docker run -p 8089:8089 --rm --name locustfile_complete_rev3 --mount type=bind,source=$pwd/../../locustfiles,target=/mnt/locust locustio/locust -f /mnt/locust/locustfile_complete.py --headless -u 100 -r 20 --run-time 10s --host http://host.docker.internal\")\n",
    "    result = buildCommand(\"locustfile\", \"100\", 10, \"60s\")\n",
    "    print(result)\n",
    "testing()\n"
   ]
  }
 ],
 "metadata": {
  "kernelspec": {
   "display_name": "Python 3",
   "language": "python",
   "name": "python3"
  },
  "language_info": {
   "codemirror_mode": {
    "name": "ipython",
    "version": 3
   },
   "file_extension": ".py",
   "mimetype": "text/x-python",
   "name": "python",
   "nbconvert_exporter": "python",
   "pygments_lexer": "ipython3",
   "version": "3.11.1 (tags/v3.11.1:a7a450f, Dec  6 2022, 19:58:39) [MSC v.1934 64 bit (AMD64)]"
  },
  "orig_nbformat": 4,
  "vscode": {
   "interpreter": {
    "hash": "3ecabe05d72c87138abd5588a1756d674ee9acb6f0f71aa26006671d9984b5b0"
   }
  }
 },
 "nbformat": 4,
 "nbformat_minor": 2
}
