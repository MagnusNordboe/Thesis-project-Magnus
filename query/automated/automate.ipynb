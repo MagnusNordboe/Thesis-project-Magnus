{
 "cells": [
  {
   "cell_type": "code",
   "execution_count": 3,
   "metadata": {},
   "outputs": [],
   "source": [
    "import subprocess\n",
    "import json\n",
    "def cmd(cmd):\n",
    "    completed = subprocess.run([\"powershell\", \"-Command\", cmd], capture_output=True)\n",
    "    \n",
    "    return completed\n",
    "#Run a test with the same exact duration and interval. One with no load, the other with heavy load. Then perform delta on delta metrics. Include useless metrics for now.\n",
    "#What does this accomplish?\n",
    "#See the direct differences between the load and no load. Didnt I already do this before the break with a load vs no load in one test?\n",
    "#Better to somehow automate data generation.\n",
    "#Base locust command:\n",
    "#docker run -p 8089:8089 --name locustfile_complete_rev3 --mount type=bind,source=$pwd/locustfiles,target=/mnt/locust locustio/locust -f /mnt/locust/locustfile_complete.py --headless -u XXX -r XXX\n",
    "\n",
    "#file: locustfile found in the locustfiles directory\n",
    "#users: \n",
    "def buildCommand(file:str, users, spawnrate, runtime, tags) -> str:\n",
    "    \"\"\"\n",
    "    Build locust command\n",
    "\n",
    "    :param str file: locustfile found in the locustfiles directory\n",
    "    :param str/int users: amount of users\n",
    "    :param str/int spawnrate: How fast the threads are spawned\n",
    "    :param str runtime: How long it runs. Example: 30m\n",
    "    :param str tags: space separated list of tags to execute\n",
    "    \"\"\"\n",
    "    base = \"docker run -p 8089:8089 --name {} --mount type=bind,source=$pwd/locustfiles,target=/mnt/locust locustio/locust -f /mnt/locust/{} --headless -u {} -r {} --run-time {} --host http://host.docker.internal --tags {}\"\n",
    "    name = file + str(users) + str(spawnrate) + str(runtime)\n",
    "    return base.format(name, file, users, spawnrate, runtime, tags)\n",
    "\n"
   ]
  },
  {
   "cell_type": "code",
   "execution_count": 4,
   "metadata": {},
   "outputs": [
    {
     "ename": "TypeError",
     "evalue": "unsupported operand type(s) for +: 'int' and 'str'",
     "output_type": "error",
     "traceback": [
      "\u001b[1;31m---------------------------------------------------------------------------\u001b[0m",
      "\u001b[1;31mTypeError\u001b[0m                                 Traceback (most recent call last)",
      "Cell \u001b[1;32mIn [4], line 5\u001b[0m\n\u001b[0;32m      3\u001b[0m     result \u001b[39m=\u001b[39m buildCommand(\u001b[39m123\u001b[39m, \u001b[39m\"\u001b[39m\u001b[39m100\u001b[39m\u001b[39m\"\u001b[39m, \u001b[39m10\u001b[39m, \u001b[39m\"\u001b[39m\u001b[39m60s\u001b[39m\u001b[39m\"\u001b[39m, \u001b[39m\"\u001b[39m\u001b[39mcarts\u001b[39m\u001b[39m\"\u001b[39m)\n\u001b[0;32m      4\u001b[0m     \u001b[39mprint\u001b[39m(result)\n\u001b[1;32m----> 5\u001b[0m testing()\n",
      "Cell \u001b[1;32mIn [4], line 3\u001b[0m, in \u001b[0;36mtesting\u001b[1;34m()\u001b[0m\n\u001b[0;32m      1\u001b[0m \u001b[39mdef\u001b[39;00m \u001b[39mtesting\u001b[39m():\n\u001b[0;32m      2\u001b[0m     \u001b[39m#result = cmd(\"docker run -p 8089:8089 --rm --name locustfile_complete_rev3 --mount type=bind,source=$pwd/../../locustfiles,target=/mnt/locust locustio/locust -f /mnt/locust/locustfile_complete.py --headless -u 100 -r 20 --run-time 10s --host http://host.docker.internal\")\u001b[39;00m\n\u001b[1;32m----> 3\u001b[0m     result \u001b[39m=\u001b[39m buildCommand(\u001b[39m123\u001b[39;49m, \u001b[39m\"\u001b[39;49m\u001b[39m100\u001b[39;49m\u001b[39m\"\u001b[39;49m, \u001b[39m10\u001b[39;49m, \u001b[39m\"\u001b[39;49m\u001b[39m60s\u001b[39;49m\u001b[39m\"\u001b[39;49m, \u001b[39m\"\u001b[39;49m\u001b[39mcarts\u001b[39;49m\u001b[39m\"\u001b[39;49m)\n\u001b[0;32m      4\u001b[0m     \u001b[39mprint\u001b[39m(result)\n",
      "Cell \u001b[1;32mIn [3], line 27\u001b[0m, in \u001b[0;36mbuildCommand\u001b[1;34m(file, users, spawnrate, runtime, tags)\u001b[0m\n\u001b[0;32m     17\u001b[0m \u001b[39m\"\"\"\u001b[39;00m\n\u001b[0;32m     18\u001b[0m \u001b[39mBuild locust command\u001b[39;00m\n\u001b[0;32m     19\u001b[0m \n\u001b[1;32m   (...)\u001b[0m\n\u001b[0;32m     24\u001b[0m \u001b[39m:param str tags: space separated list of tags to execute\u001b[39;00m\n\u001b[0;32m     25\u001b[0m \u001b[39m\"\"\"\u001b[39;00m\n\u001b[0;32m     26\u001b[0m base \u001b[39m=\u001b[39m \u001b[39m\"\u001b[39m\u001b[39mdocker run -p 8089:8089 --name \u001b[39m\u001b[39m{}\u001b[39;00m\u001b[39m --mount type=bind,source=$pwd/locustfiles,target=/mnt/locust locustio/locust -f /mnt/locust/\u001b[39m\u001b[39m{}\u001b[39;00m\u001b[39m --headless -u \u001b[39m\u001b[39m{}\u001b[39;00m\u001b[39m -r \u001b[39m\u001b[39m{}\u001b[39;00m\u001b[39m --run-time \u001b[39m\u001b[39m{}\u001b[39;00m\u001b[39m --host http://host.docker.internal --tags \u001b[39m\u001b[39m{}\u001b[39;00m\u001b[39m\"\u001b[39m\n\u001b[1;32m---> 27\u001b[0m name \u001b[39m=\u001b[39m file \u001b[39m+\u001b[39;49m \u001b[39mstr\u001b[39;49m(users) \u001b[39m+\u001b[39m \u001b[39mstr\u001b[39m(spawnrate) \u001b[39m+\u001b[39m \u001b[39mstr\u001b[39m(runtime)\n\u001b[0;32m     28\u001b[0m \u001b[39mreturn\u001b[39;00m base\u001b[39m.\u001b[39mformat(name, file, users, spawnrate, runtime)\n",
      "\u001b[1;31mTypeError\u001b[0m: unsupported operand type(s) for +: 'int' and 'str'"
     ]
    }
   ],
   "source": [
    "def testing():\n",
    "    #result = cmd(\"docker run -p 8089:8089 --rm --name locustfile_complete_rev3 --mount type=bind,source=$pwd/../../locustfiles,target=/mnt/locust locustio/locust -f /mnt/locust/locustfile_complete.py --headless -u 100 -r 20 --run-time 10s --host http://host.docker.internal\")\n",
    "    result = buildCommand(123, \"100\", 10, \"60s\", \"carts\")\n",
    "    print(result)\n",
    "testing()\n",
    "\n"
   ]
  }
 ],
 "metadata": {
  "kernelspec": {
   "display_name": "Python 3",
   "language": "python",
   "name": "python3"
  },
  "language_info": {
   "codemirror_mode": {
    "name": "ipython",
    "version": 3
   },
   "file_extension": ".py",
   "mimetype": "text/x-python",
   "name": "python",
   "nbconvert_exporter": "python",
   "pygments_lexer": "ipython3",
   "version": "3.11.1"
  },
  "orig_nbformat": 4,
  "vscode": {
   "interpreter": {
    "hash": "3ecabe05d72c87138abd5588a1756d674ee9acb6f0f71aa26006671d9984b5b0"
   }
  }
 },
 "nbformat": 4,
 "nbformat_minor": 2
}
