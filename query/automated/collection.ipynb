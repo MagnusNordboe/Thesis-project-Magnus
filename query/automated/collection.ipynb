{
 "cells": [
  {
   "cell_type": "code",
   "execution_count": 1,
   "metadata": {},
   "outputs": [],
   "source": [
    "import csv\n",
    "import requests\n",
    "from datetime import datetime\n",
    "from time import mktime\n",
    "import json\n",
    "\n",
    "def collection(time, step, source, filename):\n",
    "    \"\"\"\n",
    "    time: time in hours\n",
    "    step: query interval within the timeframe\n",
    "    source: json file with the metrics to collect\n",
    "    filename: created csv file will have this name\n",
    "    \"\"\"\n",
    "    now = datetime.now()\n",
    "    now_unix = mktime(now.timetuple())\n",
    "    file = open(source)\n",
    "    metrics = json.load(file)['data']\n",
    "\n",
    "    #quick'n dirty bool to add timestamps to only first iteration\n",
    "    first = True\n",
    "    for metric in metrics:\n",
    "        response = requests.get(\n",
    "            'http://localhost:9090/api/v1/query_range',\n",
    "            params={\n",
    "                'query': metric,\n",
    "                'start': now_unix - 3600 * time,\n",
    "                \"end\": now_unix - 3600* (time - 3),\n",
    "                'step': step\n",
    "            }\n",
    "        )\n",
    "\n",
    "\n",
    "        results = response.json()['data']['result']\n",
    "\n",
    "        \n",
    "\n",
    "        labelnames = set()\n",
    "        for result in results:\n",
    "            labelnames.update(result['metric'].keys())\n",
    "        labelnames = sorted(labelnames)\n",
    "        \n",
    "        with open(filename + \".csv\", mode = \"a\") as f:\n",
    "            writer = csv.writer(f, lineterminator='\\n')\n",
    "            if(first):\n",
    "                first = False\n",
    "                timestamps = []\n",
    "                for x in results[0]['values']:\n",
    "                    timestamps.append(x[0])\n",
    "                writer.writerow([\"identifier\"] + timestamps)\n",
    "            \n",
    "            for result in results:\n",
    "                vals = [x[1] for x in result['values']]\n",
    "                identifier_string = \"\"\n",
    "                for label in labelnames: \n",
    "                    identifier_string += result['metric'].get(label, '') + '&'\n",
    "                    \n",
    "                writer.writerow([identifier_string[:-1]] + vals)\n",
    "\n",
    "\n",
    "\n",
    "collection(6, \"10m\", \"metrics.json\", \"carts-1_cpu=1_time=2h\")\n"
   ]
  }
 ],
 "metadata": {
  "kernelspec": {
   "display_name": "Python 3",
   "language": "python",
   "name": "python3"
  },
  "language_info": {
   "codemirror_mode": {
    "name": "ipython",
    "version": 3
   },
   "file_extension": ".py",
   "mimetype": "text/x-python",
   "name": "python",
   "nbconvert_exporter": "python",
   "pygments_lexer": "ipython3",
   "version": "3.11.2"
  },
  "orig_nbformat": 4,
  "vscode": {
   "interpreter": {
    "hash": "3ecabe05d72c87138abd5588a1756d674ee9acb6f0f71aa26006671d9984b5b0"
   }
  }
 },
 "nbformat": 4,
 "nbformat_minor": 2
}
