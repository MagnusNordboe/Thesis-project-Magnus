{
 "cells": [
  {
   "cell_type": "code",
   "execution_count": 2,
   "metadata": {},
   "outputs": [
    {
     "name": "stdout",
     "output_type": "stream",
     "text": [
      "[]\n"
     ]
    },
    {
     "ename": "IndexError",
     "evalue": "list index out of range",
     "output_type": "error",
     "traceback": [
      "\u001b[1;31m---------------------------------------------------------------------------\u001b[0m",
      "\u001b[1;31mIndexError\u001b[0m                                Traceback (most recent call last)",
      "Cell \u001b[1;32mIn[2], line 62\u001b[0m\n\u001b[0;32m     56\u001b[0m                     identifier_string \u001b[39m+\u001b[39m\u001b[39m=\u001b[39m result[\u001b[39m'\u001b[39m\u001b[39mmetric\u001b[39m\u001b[39m'\u001b[39m]\u001b[39m.\u001b[39mget(label, \u001b[39m'\u001b[39m\u001b[39m'\u001b[39m) \u001b[39m+\u001b[39m \u001b[39m'\u001b[39m\u001b[39m&\u001b[39m\u001b[39m'\u001b[39m\n\u001b[0;32m     58\u001b[0m                 writer\u001b[39m.\u001b[39mwriterow([identifier_string[:\u001b[39m-\u001b[39m\u001b[39m1\u001b[39m]] \u001b[39m+\u001b[39m vals)\n\u001b[1;32m---> 62\u001b[0m collection(\u001b[39m6\u001b[39;49m, \u001b[39m\"\u001b[39;49m\u001b[39m10m\u001b[39;49m\u001b[39m\"\u001b[39;49m, \u001b[39m\"\u001b[39;49m\u001b[39mmetrics.json\u001b[39;49m\u001b[39m\"\u001b[39;49m, \u001b[39m\"\u001b[39;49m\u001b[39mcarts-1_cpu=1_time=2h\u001b[39;49m\u001b[39m\"\u001b[39;49m)\n",
      "Cell \u001b[1;32mIn[2], line 48\u001b[0m, in \u001b[0;36mcollection\u001b[1;34m(time, step, source, filename)\u001b[0m\n\u001b[0;32m     46\u001b[0m first \u001b[39m=\u001b[39m \u001b[39mFalse\u001b[39;00m\n\u001b[0;32m     47\u001b[0m timestamps \u001b[39m=\u001b[39m []\n\u001b[1;32m---> 48\u001b[0m \u001b[39mfor\u001b[39;00m x \u001b[39min\u001b[39;00m results[\u001b[39m0\u001b[39;49m][\u001b[39m'\u001b[39m\u001b[39mvalues\u001b[39m\u001b[39m'\u001b[39m]:\n\u001b[0;32m     49\u001b[0m     timestamps\u001b[39m.\u001b[39mappend(x[\u001b[39m0\u001b[39m])\n\u001b[0;32m     50\u001b[0m writer\u001b[39m.\u001b[39mwriterow([\u001b[39m\"\u001b[39m\u001b[39midentifier\u001b[39m\u001b[39m\"\u001b[39m] \u001b[39m+\u001b[39m timestamps)\n",
      "\u001b[1;31mIndexError\u001b[0m: list index out of range"
     ]
    }
   ],
   "source": [
    "import csv\n",
    "import requests\n",
    "from datetime import datetime\n",
    "from time import mktime\n",
    "import json\n",
    "\n",
    "def collection(time, step, source, filename):\n",
    "    \"\"\"\n",
    "    time: time in hours\n",
    "    step: query interval within the timeframe\n",
    "    source: json file with the metrics to collect\n",
    "    filename: created csv file will have this name\n",
    "    \"\"\"\n",
    "    now = datetime.now()\n",
    "    now_unix = mktime(now.timetuple())\n",
    "    file = open(source)\n",
    "    metrics = json.load(file)['data']\n",
    "\n",
    "    #quick'n dirty bool to add timestamps to only first iteration\n",
    "    first = True\n",
    "    for metric in metrics:\n",
    "        response = requests.get(\n",
    "            'http://localhost:9090/api/v1/query_range',\n",
    "            params={\n",
    "                'query': metric,\n",
    "                'start': now_unix - 3600 * time,\n",
    "                \"end\": now_unix - 3600* (time - 3),\n",
    "                'step': step\n",
    "            }\n",
    "        )\n",
    "\n",
    "\n",
    "        results = response.json()['data']['result']\n",
    "        print(results)\n",
    "\n",
    "        \n",
    "\n",
    "        labelnames = set()\n",
    "        for result in results:\n",
    "            labelnames.update(result['metric'].keys())\n",
    "        labelnames = sorted(labelnames)\n",
    "        \n",
    "        with open(filename + \".csv\", mode = \"a\") as f:\n",
    "            writer = csv.writer(f, lineterminator='\\n')\n",
    "            if(first):\n",
    "                first = False\n",
    "                timestamps = []\n",
    "                for x in results[0]['values']:\n",
    "                    timestamps.append(x[0])\n",
    "                writer.writerow([\"identifier\"] + timestamps)\n",
    "            \n",
    "            for result in results:\n",
    "                vals = [x[1] for x in result['values']]\n",
    "                identifier_string = \"\"\n",
    "                for label in labelnames: \n",
    "                    identifier_string += result['metric'].get(label, '') + '&'\n",
    "                    \n",
    "                writer.writerow([identifier_string[:-1]] + vals)\n",
    "\n",
    "\n",
    "\n",
    "collection(6, \"10m\", \"metrics.json\", \"carts-1_cpu=1_time=2h\")\n"
   ]
  }
 ],
 "metadata": {
  "kernelspec": {
   "display_name": "Python 3",
   "language": "python",
   "name": "python3"
  },
  "language_info": {
   "codemirror_mode": {
    "name": "ipython",
    "version": 3
   },
   "file_extension": ".py",
   "mimetype": "text/x-python",
   "name": "python",
   "nbconvert_exporter": "python",
   "pygments_lexer": "ipython3",
   "version": "3.11.2"
  },
  "orig_nbformat": 4,
  "vscode": {
   "interpreter": {
    "hash": "3ecabe05d72c87138abd5588a1756d674ee9acb6f0f71aa26006671d9984b5b0"
   }
  }
 },
 "nbformat": 4,
 "nbformat_minor": 2
}
