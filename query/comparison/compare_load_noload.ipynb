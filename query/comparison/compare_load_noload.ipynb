{
 "cells": [
  {
   "cell_type": "code",
   "execution_count": 1,
   "metadata": {},
   "outputs": [
    {
     "name": "stdout",
     "output_type": "stream",
     "text": [
      "{\"id\":\"03fef6ac-1896-4ce8-bd69-b798f85c6e0b\"}\n"
     ]
    }
   ],
   "source": [
    "import subprocess\n",
    "import json\n",
    "def locust(self, cmd):\n",
    "    completed = subprocess.run([\"powershell\", \"-Command\", cmd], capture_output=True)\n",
    "    return completed\n",
    "#Run a test with the same exact duration and interval. One with no load, the other with heavy load. Then perform delta on delta metrics. Include useless metrics for now.\n",
    "#What does this accomplish?\n",
    "#See the direct differences between the load and no load. Didnt I already do this before the break with a load vs no load in one test?\n",
    "#Better to somehow automate data generation.\n",
    "#"
   ]
  }
 ],
 "metadata": {
  "kernelspec": {
   "display_name": "Python 3",
   "language": "python",
   "name": "python3"
  },
  "language_info": {
   "codemirror_mode": {
    "name": "ipython",
    "version": 3
   },
   "file_extension": ".py",
   "mimetype": "text/x-python",
   "name": "python",
   "nbconvert_exporter": "python",
   "pygments_lexer": "ipython3",
   "version": "3.11.1 (tags/v3.11.1:a7a450f, Dec  6 2022, 19:58:39) [MSC v.1934 64 bit (AMD64)]"
  },
  "orig_nbformat": 4,
  "vscode": {
   "interpreter": {
    "hash": "3ecabe05d72c87138abd5588a1756d674ee9acb6f0f71aa26006671d9984b5b0"
   }
  }
 },
 "nbformat": 4,
 "nbformat_minor": 2
}
