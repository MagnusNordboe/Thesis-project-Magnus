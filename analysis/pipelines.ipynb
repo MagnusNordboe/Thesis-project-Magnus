{
 "cells": [
  {
   "cell_type": "code",
   "execution_count": null,
   "metadata": {},
   "outputs": [],
   "source": [
    "import pandas as pd\n",
    "import numpy as np\n",
    "import sktime\n",
    "import seaborn as sns\n",
    "import matplotlib.pyplot as plt\n",
    "from convertcsv.import_preprocess_v4 import readcsvs\n",
    "from sklearn.model_selection import train_test_split\n",
    "from sklearn.pipeline import Pipeline\n",
    "from sklearn.preprocessing import StandardScaler\n",
    "from sklearn.preprocessing import MinMaxScaler\n",
    "from sktime.transformations.panel.rocket import Rocket\n",
    "from sktime.transformations.panel.rocket import MiniRocketMultivariate\n",
    "from sktime.classification.kernel_based import RocketClassifier\n",
    "from sklearn.linear_model import RidgeClassifierCV\n",
    "from sklearn.impute import KNNImputer\n",
    "from convertcsv.get_all_metrics_with_tags import get_all_metrics_with_tags\n",
    "\n"
   ]
  },
  {
   "cell_type": "code",
   "execution_count": null,
   "metadata": {},
   "outputs": [],
   "source": [
    "#What should we do here?\n",
    "\n",
    "#Set up many different pipelines to compare.\n",
    "\n",
    "#The things to vary, in order of significance/importance\n",
    "\"\"\"\n",
    "NaN treshold\n",
    "\n",
    "KNN imptutation neigbours. Do research on this?\n",
    "KNN weighting and distance metric\n",
    "These can be researched separately by eliminating NaNs from a dataset, then using \n",
    "creating a loss function for the results of various types of KNN. Seems like a no brainer tbh.\n",
    "How to do this? Simply removing all NaNs don't work. Use a similar, smaller data set.\n",
    "Take a random subset of the thingies. Then clean it so there is no NaNs at all. Then \n",
    "set a random amount in random places to be NaNs. Aim for 25% perhaps\n",
    "Actually first one has to remove those over the treshold, then look at the finished \n",
    "percentage. Emulate that. Write latex simultaneously.\n",
    "\"\"\"\n"
   ]
  }
 ],
 "metadata": {
  "language_info": {
   "name": "python"
  },
  "orig_nbformat": 4
 },
 "nbformat": 4,
 "nbformat_minor": 2
}
