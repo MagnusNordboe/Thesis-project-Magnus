{
 "cells": [
  {
   "cell_type": "code",
   "execution_count": 44,
   "metadata": {},
   "outputs": [
    {
     "name": "stdout",
     "output_type": "stream",
     "text": [
      "@problemName sockshop\n",
      "@timeStamps false\n",
      "@missing false\n",
      "@univariate false\n",
      "@dimensions 3\n",
      "@equalLength true\n",
      "@seriesLength 8\n",
      "@classLabel false\n",
      "@data\n",
      "312:313:314\n",
      "13:12:12\n",
      "31:33:33\n",
      "\n"
     ]
    },
    {
     "ename": "ValueError",
     "evalue": "too many values to unpack (expected 2)",
     "output_type": "error",
     "traceback": [
      "\u001b[1;31m---------------------------------------------------------------------------\u001b[0m",
      "\u001b[1;31mValueError\u001b[0m                                Traceback (most recent call last)",
      "\u001b[1;32m~\\AppData\\Local\\Temp\\ipykernel_2748\\4252015015.py\u001b[0m in \u001b[0;36m<module>\u001b[1;34m\u001b[0m\n\u001b[0;32m     40\u001b[0m \u001b[0mprint\u001b[0m\u001b[1;33m(\u001b[0m\u001b[0mreading\u001b[0m\u001b[1;33m.\u001b[0m\u001b[0mread\u001b[0m\u001b[1;33m(\u001b[0m\u001b[1;33m)\u001b[0m\u001b[1;33m)\u001b[0m\u001b[1;33m\u001b[0m\u001b[1;33m\u001b[0m\u001b[0m\n\u001b[0;32m     41\u001b[0m \u001b[1;33m\u001b[0m\u001b[0m\n\u001b[1;32m---> 42\u001b[1;33m \u001b[0mtest\u001b[0m \u001b[1;33m=\u001b[0m \u001b[0mload_from_tsfile\u001b[0m\u001b[1;33m(\u001b[0m\u001b[1;34m\"testing.ts\"\u001b[0m\u001b[1;33m)\u001b[0m\u001b[1;33m\u001b[0m\u001b[1;33m\u001b[0m\u001b[0m\n\u001b[0m\u001b[0;32m     43\u001b[0m \u001b[0mprint\u001b[0m\u001b[1;33m(\u001b[0m\u001b[0mtest\u001b[0m\u001b[1;33m)\u001b[0m\u001b[1;33m\u001b[0m\u001b[1;33m\u001b[0m\u001b[0m\n\u001b[0;32m     44\u001b[0m \u001b[0mtype\u001b[0m\u001b[1;33m(\u001b[0m\u001b[0mtest\u001b[0m\u001b[1;33m)\u001b[0m\u001b[1;33m\u001b[0m\u001b[1;33m\u001b[0m\u001b[0m\n",
      "\u001b[1;32mf:\\anaconda\\envs\\py39\\lib\\site-packages\\sktime\\datasets\\_data_io.py\u001b[0m in \u001b[0;36mload_from_tsfile\u001b[1;34m(full_file_path_and_name, replace_missing_vals_with, return_y, return_data_type)\u001b[0m\n\u001b[0;32m    442\u001b[0m \u001b[1;33m\u001b[0m\u001b[0m\n\u001b[0;32m    443\u001b[0m     \u001b[1;31m# Initialize flags and variables used when parsing the file\u001b[0m\u001b[1;33m\u001b[0m\u001b[1;33m\u001b[0m\u001b[0m\n\u001b[1;32m--> 444\u001b[1;33m     X, y = load_from_tsfile_to_dataframe(\n\u001b[0m\u001b[0;32m    445\u001b[0m         \u001b[0mfull_file_path_and_name\u001b[0m\u001b[1;33m=\u001b[0m\u001b[0mfull_file_path_and_name\u001b[0m\u001b[1;33m,\u001b[0m\u001b[1;33m\u001b[0m\u001b[1;33m\u001b[0m\u001b[0m\n\u001b[0;32m    446\u001b[0m         \u001b[0mreturn_separate_X_and_y\u001b[0m\u001b[1;33m=\u001b[0m\u001b[1;32mTrue\u001b[0m\u001b[1;33m,\u001b[0m\u001b[1;33m\u001b[0m\u001b[1;33m\u001b[0m\u001b[0m\n",
      "\u001b[1;31mValueError\u001b[0m: too many values to unpack (expected 2)"
     ]
    }
   ],
   "source": [
    "from sktime.datasets import load_from_tsfile\n",
    "import pandas as pd\n",
    "# data = pd.read_csv(\"../Test_datasets/simple1.csv\").transpose()\n",
    "# data2 = pd.read_csv(\"../Test_datasets/simple2.csv\").transpose()\n",
    "\n",
    "# data.columns.name = None\n",
    "# data2.columns.name = None\n",
    "\n",
    "#print(data.values[1:])\n",
    "#Each csv file is a newline\n",
    "#Each dimension(reading) is separated with colon within its line\n",
    "#Each csv file with a target label should end its line with :<target>\n",
    "\n",
    "        \n",
    "with open(\"output.ts\", mode=\"w\") as file:\n",
    "    file.writelines([\"@problemName sockshop\",\n",
    "    \"\\n@timeStamps false\",\n",
    "    \"\\n@missing false\",\n",
    "    \"\\n@univariate false\",\n",
    "    \"\\n@dimensions 3\",\n",
    "    \"\\n@equalLength true\",\n",
    "    \"\\n@seriesLength 8\",\n",
    "    \"\\n@classLabel false\",\n",
    "    \"\\n@data\\n\"])\n",
    "\n",
    "    with open(\"../Test_datasets/simple1.csv\") as csv:\n",
    "        #calling readline seems the simplest way to skip the first line, which contains timestamps. Perhaps use this line to add timestamps?\n",
    "        csv.readline()\n",
    "        #for the very first line of data, we do separately just because the first one doesnt begin with a colon\n",
    "        #This code looks messy but does the exact same as the more readable code below, except adding a colon.\n",
    "        file.write(csv.readline().replace(\"\\n\",\"\").split(\",\",1)[1])\n",
    "        for x in csv:\n",
    "            \n",
    "            #Remove the newline at the end of each line, and split the identifier form the string so we only have the numbers\n",
    "            identifier, numberlist = x.replace(\"\\n\",\"\").split(\",\",1)\n",
    "            file.write(\":\" + numberlist)\n",
    "        \n",
    "    \n",
    "test = load_from_tsfile(\"testing.ts\")\n",
    "print(test)\n",
    "type(test)\n",
    "print(type(test[0]))\n",
    "reading = open(\"testing.ts\", mode=\"r\")\n",
    "print(reading.read())"
   ]
  },
  {
   "cell_type": "code",
   "execution_count": null,
   "metadata": {},
   "outputs": [],
   "source": []
  }
 ],
 "metadata": {
  "kernelspec": {
   "display_name": "Python 3",
   "language": "python",
   "name": "python3"
  },
  "language_info": {
   "codemirror_mode": {
    "name": "ipython",
    "version": 3
   },
   "file_extension": ".py",
   "mimetype": "text/x-python",
   "name": "python",
   "nbconvert_exporter": "python",
   "pygments_lexer": "ipython3",
   "version": "3.9.16"
  },
  "orig_nbformat": 4,
  "vscode": {
   "interpreter": {
    "hash": "3e90e1a1473f170485a9d276321f87f2208c7adda2047c45136ed578a7f25d18"
   }
  }
 },
 "nbformat": 4,
 "nbformat_minor": 2
}
