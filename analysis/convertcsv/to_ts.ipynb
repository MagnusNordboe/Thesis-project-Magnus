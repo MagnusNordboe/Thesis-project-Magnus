{
 "cells": [
  {
   "cell_type": "code",
   "execution_count": 37,
   "metadata": {},
   "outputs": [
    {
     "name": "stdout",
     "output_type": "stream",
     "text": [
      "312,345,355,355,356,354,355,356\n",
      "0,0,0,0,1,1,1,2\n",
      "45,87,23,67,12,3,654,4\n"
     ]
    }
   ],
   "source": [
    "# import pandas as pd\n",
    "import ast\n",
    "# data = pd.read_csv(\"../Test_datasets/simple1.csv\").transpose()\n",
    "# data2 = pd.read_csv(\"../Test_datasets/simple2.csv\").transpose()\n",
    "\n",
    "# data.columns.name = None\n",
    "# data2.columns.name = None\n",
    "\n",
    "#print(data.values[1:])\n",
    "#Each csv file is a newline\n",
    "#Each dimension(reading) is separated with colon within its line\n",
    "#Each csv file with a target label should end its line with :<target>\n",
    "\n",
    "        \n",
    "with open(\"output.txt\", mode=\"w\") as file:\n",
    "    file.writelines([\"@problemName sockshop\",\n",
    "    \"\\n@timeStamps false\",\n",
    "    \"\\n@missing false\",\n",
    "    \"\\n@univariate false\",\n",
    "    \"\\n@dimensions 2\",\n",
    "    \"\\n@equalLength true\",\n",
    "    \"\\n@seriesLength 8\",\n",
    "    \"\\n@classLabel false\",\n",
    "    \"\\n@data\\n\"])\n",
    "\n",
    "    with open(\"../Test_datasets/simple1.csv\") as csv:\n",
    "        csv.readline()\n",
    "        for x in csv:\n",
    "            \n",
    "            arr = x.replace(\"\\n\",\"\").split(\",\",1)\n",
    "            numberlist = arr[1]\n",
    "            print(numberlist)\n",
    "\n",
    "    \n",
    "\n"
   ]
  }
 ],
 "metadata": {
  "kernelspec": {
   "display_name": "Python 3",
   "language": "python",
   "name": "python3"
  },
  "language_info": {
   "codemirror_mode": {
    "name": "ipython",
    "version": 3
   },
   "file_extension": ".py",
   "mimetype": "text/x-python",
   "name": "python",
   "nbconvert_exporter": "python",
   "pygments_lexer": "ipython3",
   "version": "3.9.16"
  },
  "orig_nbformat": 4,
  "vscode": {
   "interpreter": {
    "hash": "3e90e1a1473f170485a9d276321f87f2208c7adda2047c45136ed578a7f25d18"
   }
  }
 },
 "nbformat": 4,
 "nbformat_minor": 2
}
