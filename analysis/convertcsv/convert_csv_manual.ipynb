{
 "cells": [
  {
   "cell_type": "code",
   "execution_count": 24,
   "metadata": {},
   "outputs": [],
   "source": [
    "import sktime\n",
    "import pandas as pd\n",
    "from collections import defaultdict"
   ]
  },
  {
   "cell_type": "code",
   "execution_count": 50,
   "metadata": {},
   "outputs": [
    {
     "name": "stdout",
     "output_type": "stream",
     "text": [
      "[[312   0  45]\n",
      " [345   0  87]\n",
      " [355   0  23]\n",
      " [355   0  67]\n",
      " [356   1  12]\n",
      " [354   1   3]\n",
      " [355   1 654]\n",
      " [356   2   4]]\n",
      "Index(['1', '2', '3', '4', '5', '6', '7', '8'], dtype='object')\n",
      "Index(['first', 'second', 'third'], dtype='string', name='identifier')\n"
     ]
    }
   ],
   "source": [
    "\n",
    "def default_type():\n",
    "    return \"float64\"\n",
    "\n",
    "types = defaultdict(default_type)\n",
    "\n",
    "\n",
    "csv_df = pd.read_csv(\"../Test_datasets/simple1.csv\", index_col=0).transpose()\n",
    "csv_df.columns = csv_df.columns.astype(csv_df.columns.inferred_type)\n",
    "\n",
    "identifiers = csv_df.columns.array\n",
    "print(csv_df.values)\n",
    "print(csv_df.index)\n",
    "print(csv_df.columns)"
   ]
  },
  {
   "cell_type": "code",
   "execution_count": 99,
   "metadata": {},
   "outputs": [
    {
     "name": "stdout",
     "output_type": "stream",
     "text": [
      "['1', '2', '3', '4', '5', '6', '7', '8']\n",
      "Index(['1', '2', '3', '4', '5', '6', '7', '8'], dtype='object')\n",
      "   col1  col2\n",
      "0     1     3\n",
      "1     2     4\n"
     ]
    },
    {
     "data": {
      "text/plain": [
       "True"
      ]
     },
     "execution_count": 99,
     "metadata": {},
     "output_type": "execute_result"
    }
   ],
   "source": [
    "df1 = pd.read_csv(\"../Test_datasets/simple1.csv\",index_col=0).transpose()\n",
    "df2 = pd.read_csv(\"../Test_datasets/simple2.csv\", index_col=0).transpose()\n",
    "\n",
    "\n",
    "df1.columns.name= None\n",
    "df2.columns.name= None\n",
    "\n",
    "\n",
    "mix = pd.concat([df1, df2])\n",
    "\n",
    "\n",
    "df1.index = df1.index.to_list()\n",
    "print(df1.index.to_list())\n",
    "print(df1.index)\n",
    "from sktime import datatypes\n",
    "d = {'col1': [1, 2], 'col2': [3, 4]}\n",
    "print(df)\n",
    "df = pd.DataFrame(data=d)\n",
    "datatypes.check_raise(df, mtype=\"pd.DataFrame\")"
   ]
  },
  {
   "cell_type": "code",
   "execution_count": 66,
   "metadata": {},
   "outputs": [
    {
     "data": {
      "text/plain": [
       "0     0.079106\n",
       "1     0.079106\n",
       "2    -0.903497\n",
       "3     1.116125\n",
       "4     1.638200\n",
       "        ...   \n",
       "95   -0.167918\n",
       "96   -0.227670\n",
       "97   -0.193271\n",
       "98   -0.193271\n",
       "99   -0.205150\n",
       "Length: 100, dtype: float64"
      ]
     },
     "execution_count": 66,
     "metadata": {},
     "output_type": "execute_result"
    }
   ],
   "source": [
    "from sktime.datasets import load_basic_motions\n",
    "X_train, y_train = load_basic_motions(split=\"train\", return_X_y=True)\n",
    "\n",
    "X_train[\"dim_0\"][0]"
   ]
  }
 ],
 "metadata": {
  "kernelspec": {
   "display_name": "Python 3",
   "language": "python",
   "name": "python3"
  },
  "language_info": {
   "codemirror_mode": {
    "name": "ipython",
    "version": 3
   },
   "file_extension": ".py",
   "mimetype": "text/x-python",
   "name": "python",
   "nbconvert_exporter": "python",
   "pygments_lexer": "ipython3",
   "version": "3.9.16"
  },
  "orig_nbformat": 4,
  "vscode": {
   "interpreter": {
    "hash": "3e90e1a1473f170485a9d276321f87f2208c7adda2047c45136ed578a7f25d18"
   }
  }
 },
 "nbformat": 4,
 "nbformat_minor": 2
}
