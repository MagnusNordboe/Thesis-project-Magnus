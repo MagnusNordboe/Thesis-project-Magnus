{
 "cells": [
  {
   "cell_type": "code",
   "execution_count": 13,
   "metadata": {},
   "outputs": [
    {
     "data": {
      "text/plain": [
       "Rocket()"
      ]
     },
     "execution_count": 13,
     "metadata": {},
     "output_type": "execute_result"
    }
   ],
   "source": [
    "import pandas as pd\n",
    "import numpy as np\n",
    "dtIndex = pd.to_datetime((1674062479,1674063139,1674063799), unit=\"s\")\n",
    "outerIndex = [\"csv1\",\"csv2\",\"csv3\"]\n",
    "metrics = [\"one\",\"two\",\"three\"]\n",
    "index = pd.MultiIndex.from_product([outerIndex,dtIndex],names=[\"instances\", \"timepoints\"])\n",
    "vals = np.random.randn(9,3)\n",
    "df = pd.DataFrame(vals, index=index, columns=metrics)\n",
    "vals2 = np.random.randn(9,3)\n",
    "df2 = pd.DataFrame(vals2, index=index, columns=metrics)\n",
    "\n",
    "\n",
    "vals3 = np.random.randn(9,3)\n",
    "df3 = pd.DataFrame(vals3, index=index, columns=metrics)\n",
    "\n",
    "dflist = [df, df2, df3]\n",
    "merged = pd.concat(dflist,keys=[f'csv {i}' for i in range(1, len(dflist)+1)])\n",
    "merged\n",
    "from sktime.transformations.panel.rocket import Rocket\n",
    "\n",
    "rocket = Rocket()\n",
    "rocket.fit(merged)"
   ]
  }
 ],
 "metadata": {
  "kernelspec": {
   "display_name": "Python 3",
   "language": "python",
   "name": "python3"
  },
  "language_info": {
   "codemirror_mode": {
    "name": "ipython",
    "version": 3
   },
   "file_extension": ".py",
   "mimetype": "text/x-python",
   "name": "python",
   "nbconvert_exporter": "python",
   "pygments_lexer": "ipython3",
   "version": "3.9.16"
  },
  "orig_nbformat": 4
 },
 "nbformat": 4,
 "nbformat_minor": 2
}
