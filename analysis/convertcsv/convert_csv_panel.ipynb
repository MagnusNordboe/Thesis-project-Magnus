{
 "cells": [
  {
   "cell_type": "code",
   "execution_count": 14,
   "metadata": {},
   "outputs": [
    {
     "data": {
      "text/plain": [
       "['first', 'second', 'third']"
      ]
     },
     "execution_count": 14,
     "metadata": {},
     "output_type": "execute_result"
    }
   ],
   "source": [
    "import sktime\n",
    "import pandas as pd\n",
    "import numpy as np\n",
    "\n",
    "simple1 = pd.read_csv(\"../Test_datasets/simple1.csv\")\n",
    "\n",
    "containers = [\"first\",\"second\",\"third\"]\n",
    "timestamps = [1,2,3,4,5,6,7,8]\n",
    "iter = [containers, timestamps]\n",
    "multi = pd.MultiIndex.from_product(iter)\n",
    "s = pd.Series(np.random.randn(24), index=multi)\n",
    "simple1[\"identifier\"].to_list()"
   ]
  }
 ],
 "metadata": {
  "kernelspec": {
   "display_name": "Python 3",
   "language": "python",
   "name": "python3"
  },
  "language_info": {
   "codemirror_mode": {
    "name": "ipython",
    "version": 3
   },
   "file_extension": ".py",
   "mimetype": "text/x-python",
   "name": "python",
   "nbconvert_exporter": "python",
   "pygments_lexer": "ipython3",
   "version": "3.9.16"
  },
  "orig_nbformat": 4,
  "vscode": {
   "interpreter": {
    "hash": "3e90e1a1473f170485a9d276321f87f2208c7adda2047c45136ed578a7f25d18"
   }
  }
 },
 "nbformat": 4,
 "nbformat_minor": 2
}
