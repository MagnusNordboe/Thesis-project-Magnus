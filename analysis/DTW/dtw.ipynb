{
 "cells": [
  {
   "cell_type": "code",
   "execution_count": 4,
   "metadata": {},
   "outputs": [
    {
     "name": "stdout",
     "output_type": "stream",
     "text": [
      "  identifier    1    2    3    4    5    6    7    8\n",
      "0      first  312  345  355  355  356  354  355  NaN\n",
      "1     second    0    0    0    0    1    1    1  2.0\n",
      "2      third   45   87   23   67   12    3  654  NaN\n"
     ]
    }
   ],
   "source": [
    "import numpy as np\n",
    "import pandas\n",
    "\n",
    "simple = pandas.read_csv(\"../Test_datasets/simple1.csv\")\n",
    "print(simple)\n"
   ]
  }
 ],
 "metadata": {
  "kernelspec": {
   "display_name": "Python 3",
   "language": "python",
   "name": "python3"
  },
  "language_info": {
   "codemirror_mode": {
    "name": "ipython",
    "version": 3
   },
   "file_extension": ".py",
   "mimetype": "text/x-python",
   "name": "python",
   "nbconvert_exporter": "python",
   "pygments_lexer": "ipython3",
   "version": "3.11.1"
  },
  "orig_nbformat": 4,
  "vscode": {
   "interpreter": {
    "hash": "3ecabe05d72c87138abd5588a1756d674ee9acb6f0f71aa26006671d9984b5b0"
   }
  }
 },
 "nbformat": 4,
 "nbformat_minor": 2
}
