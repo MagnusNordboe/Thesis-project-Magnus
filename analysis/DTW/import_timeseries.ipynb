{
 "cells": [
  {
   "cell_type": "code",
   "execution_count": 4,
   "metadata": {},
   "outputs": [],
   "source": [
    "import pandas\n",
    "import glob\n",
    "for file in glob.glob(\"./../../query/automated/generated_csvs/carts/*/*.csv\", recursive=True):\n",
    "    print(file)"
   ]
  },
  {
   "cell_type": "code",
   "execution_count": 76,
   "metadata": {},
   "outputs": [
    {
     "name": "stdout",
     "output_type": "stream",
     "text": [
      "identifier    go_gc_duration_seconds&catalogue:80&catalogue&0\n",
      "1674045167                                            0.00031\n",
      "1674045172                                            0.00031\n",
      "1674045177                                           0.000337\n",
      "1674045182                                           0.000337\n",
      "                                   ...                       \n",
      "1674045807                                           0.000343\n",
      "1674045812                                           0.000353\n",
      "1674045817                                           0.000353\n",
      "1674045822                                           0.000353\n",
      "1674045827                                           0.000353\n",
      "Name: 0, Length: 134, dtype: object\n"
     ]
    },
    {
     "name": "stderr",
     "output_type": "stream",
     "text": [
      "C:\\Users\\nordb\\AppData\\Local\\Temp\\ipykernel_8544\\1577697766.py:10: FutureWarning: In a future version, the Index constructor will not infer numeric dtypes when passed object-dtype sequences (matching Series behavior)\n",
      "  test.iloc[122][1:].is_monotonic_increasing\n"
     ]
    }
   ],
   "source": [
    "test = pandas.read_csv(\"../../query/automated/generated_csvs/even_load/400U_50R_10.csv\")\n",
    "\n",
    "# def identify(caller):\n",
    "#     print(caller)\n",
    "#     return False\n",
    "# test.loc(test[\"identifier\"].str.contains(\"a\"))\n",
    "\n",
    "#test[\"identifier\"].str.contains(\"go_gc\")\n",
    "#test.loc[lambda .test: test[\"identifier\"].str.contains(\"jvm_gc_collection_seconds_count\")]\n",
    "test.iloc[122][1:].is_monotonic_increasing\n",
    "transed = test.transpose()\n",
    "# for x in transed.iterrows():\n",
    "#     for (index, items) in x[1].items():\n",
    "#         print(items)\n",
    "\n",
    "print(transed[0])\n",
    "\n",
    "# for (label,value) in transed.items():\n",
    "#     print(value)\n",
    "\n"
   ]
  },
  {
   "cell_type": "code",
   "execution_count": null,
   "metadata": {},
   "outputs": [],
   "source": []
  }
 ],
 "metadata": {
  "kernelspec": {
   "display_name": "Python 3",
   "language": "python",
   "name": "python3"
  },
  "language_info": {
   "codemirror_mode": {
    "name": "ipython",
    "version": 3
   },
   "file_extension": ".py",
   "mimetype": "text/x-python",
   "name": "python",
   "nbconvert_exporter": "python",
   "pygments_lexer": "ipython3",
   "version": "3.11.1"
  },
  "orig_nbformat": 4,
  "vscode": {
   "interpreter": {
    "hash": "3ecabe05d72c87138abd5588a1756d674ee9acb6f0f71aa26006671d9984b5b0"
   }
  }
 },
 "nbformat": 4,
 "nbformat_minor": 2
}
