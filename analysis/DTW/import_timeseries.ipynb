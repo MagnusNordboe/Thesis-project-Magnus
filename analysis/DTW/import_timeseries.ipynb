{
 "cells": [
  {
   "cell_type": "code",
   "execution_count": 1,
   "metadata": {},
   "outputs": [],
   "source": [
    "import pandas\n",
    "import glob\n",
    "for file in glob.glob(\"./../../query/automated/generated_csvs/carts/*/*.csv\", recursive=True):\n",
    "    print(file)"
   ]
  },
  {
   "cell_type": "code",
   "execution_count": 12,
   "metadata": {},
   "outputs": [
    {
     "name": "stdout",
     "output_type": "stream",
     "text": [
      "static\n"
     ]
    }
   ],
   "source": [
    "import pandas\n",
    "\n",
    "test = pandas.read_csv(\"../../query/automated/generated_csvs/even_load/1000U_50R_10.csv\")\n",
    "\n",
    "content = test.transpose()[113]\n",
    "\n",
    "identifier = content[0]\n",
    "#changing metrics cannot be dislodged\n",
    "\n",
    "#series collects just the actual measurement metrics and forces numerical typing (from 'object')\n",
    "series = content[1:].astype(float)\n",
    "if series.drop_duplicates().size == 1:\n",
    "    print(\"static\")\n",
    "elif series.is_monotonic_increasing:\n",
    "    print(\"increasing\")\n",
    "elif series.is_monotonic_decreasing:\n",
    "    print(\"dec\")\n",
    "else:\n",
    "    print(\"changing\")\n",
    "\n",
    "# for (label,value) in transed.items():\n",
    "#     print(value)"
   ]
  },
  {
   "cell_type": "code",
   "execution_count": 45,
   "metadata": {},
   "outputs": [
    {
     "name": "stdout",
     "output_type": "stream",
     "text": [
      "True\n"
     ]
    }
   ],
   "source": [
    "data = pandas.read_csv(\"testing.csv\")\n",
    "datat = data.transpose()\n",
    "print(data)\n",
    "print(datat)\n",
    "print(datat[0][1:].astype(float).is_monotonic_increasing)\n",
    "\n"
   ]
  },
  {
   "cell_type": "code",
   "execution_count": 54,
   "metadata": {},
   "outputs": [
    {
     "name": "stdout",
     "output_type": "stream",
     "text": [
      "False\n"
     ]
    }
   ],
   "source": [
    "recheck = [0.00031039100000000003,0.00031039100000000003,0.00033729,0.00033729,0.00033729,0.000346466,0.000346466,0.000346466,0.000345202,0.000345202,0.000345202,0.000339621,0.000339621,0.000339621,0.000339621,0.000339621,0.000339621,0.000339621,0.000339621,0.000339621,0.000339621,0.000342961,0.000342961,0.000342961,0.000342961,0.000342961,0.000342961,0.000342961,0.000342961,0.000342961,0.000342961,0.000345846,0.00035602100000000004,0.00035602100000000004,0.000366751,0.00037546000000000004,0.00037546000000000004,0.00032869100000000004,0.00032869100000000004,0.00032869100000000004,0.00032869100000000004,0.00032869100000000004,0.00032869100000000004,0.000309981,0.000309981,0.000309981,0.000309981,0.000309981,0.000309981,0.000309981,0.000309981,0.000309981,0.000309981,0.000356921,0.000356921,0.000360205,0.000335946,0.000335946,0.000335946,0.000335946,0.000335946,0.000322181,0.000322181,0.000322181,0.000322181,0.000322181,0.000322181,0.000322181,0.000322181,0.000322181,0.00035033600000000003,0.00035033600000000003,0.00035425100000000003,0.00035425100000000003,0.00035425100000000003,0.00035425100000000003,0.000359951,0.000359951,0.000359951,0.000359951,0.000359951,0.000359951,0.000359951,0.000363056,0.000363056,0.000322041,0.000322041,0.000322041,0.000322041,0.000322041,0.000322041,0.000322041,0.000322041,0.000322041,0.000316442,0.000316442,0.000316442,0.000316442,0.000316442,0.000316442,0.000316442,0.000316442,0.000316442,0.000316442,0.00031818,0.00031818,0.00031818,0.00031818,0.00031818,0.00032842,0.00032842,0.00032842,0.00032842,0.00032842,0.00032842,0.00032842,0.00032436600000000003,0.00032436600000000003,0.00032436600000000003,0.00032436600000000003,0.00032436600000000003,0.00032436600000000003,0.00032436600000000003,0.00032436600000000003,0.00032436600000000003,0.00032436600000000003,0.000342661,0.000342661,0.000342661,0.000353251,0.000353251,0.000353251,0.000353251\n",
    "]\n",
    "toseries = pandas.Series(recheck, dtype=float)\n",
    "import itertools\n",
    "\n",
    "incr = True\n",
    "for x in itertools.pairwise(recheck):\n",
    "    if x[0] > x[1]:\n",
    "        incr = False\n",
    "print(incr)"
   ]
  },
  {
   "cell_type": "code",
   "execution_count": 56,
   "metadata": {},
   "outputs": [
    {
     "name": "stdout",
     "output_type": "stream",
     "text": [
      "True\n",
      "[1, 2, 34, 4, 5]\n"
     ]
    }
   ],
   "source": [
    "mylist = [1,2,3,4,5]\n",
    "\n",
    "def fun(alist, otherlist):\n",
    "    alist[2] = 34\n",
    "    print(alist == otherlist)\n",
    "\n",
    "fun(mylist, mylist)\n",
    "print(mylist)"
   ]
  }
 ],
 "metadata": {
  "kernelspec": {
   "display_name": "Python 3",
   "language": "python",
   "name": "python3"
  },
  "language_info": {
   "codemirror_mode": {
    "name": "ipython",
    "version": 3
   },
   "file_extension": ".py",
   "mimetype": "text/x-python",
   "name": "python",
   "nbconvert_exporter": "python",
   "pygments_lexer": "ipython3",
   "version": "3.11.2"
  },
  "orig_nbformat": 4,
  "vscode": {
   "interpreter": {
    "hash": "3ecabe05d72c87138abd5588a1756d674ee9acb6f0f71aa26006671d9984b5b0"
   }
  }
 },
 "nbformat": 4,
 "nbformat_minor": 2
}
