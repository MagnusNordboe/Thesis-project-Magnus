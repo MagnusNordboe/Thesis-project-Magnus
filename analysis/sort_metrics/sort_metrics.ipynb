{
 "cells": [
  {
   "cell_type": "code",
   "execution_count": 1,
   "metadata": {},
   "outputs": [
    {
     "data": {
      "text/plain": [
       "['first', 'second']"
      ]
     },
     "execution_count": 1,
     "metadata": {},
     "output_type": "execute_result"
    }
   ],
   "source": [
    "import csv\n",
    "import json\n",
    "import pandas\n",
    "import glob\n",
    "\n",
    "def sort_metrics(input_file:str, initial_metrics:list, changing_metrics:list, increment_metric:list, static_metric:list, decrement_metrics:list):\n",
    "    data = pandas.read(input_file)\n",
    "\n",
    "    #Go through each measurement one by one. Find out what it belongs to (direct comparison. SPlit along \"&\" and use comparator).\n",
    "    #Go \n",
    "    #dfb\n",
    "    return\n",
    "\n",
    "\n",
    "def init(metrics_file:str, folder:str):\n",
    "    \"\"\"\n",
    "    :param str folder: example: pathto/folder/**/*.csv\n",
    "    :param str metrics_file: json file with a \"data\" array with all the unsorted metrics\n",
    "    \"\"\"\n",
    "    initial_metrics = json.load(metrics_file)\n",
    "    static_metrics = []\n",
    "    changing_metrics = []\n",
    "    increment_metrics = []\n",
    "    decrement_metrics = []\n",
    "\n",
    "    for file in glob.glob(folder, recursive=True):\n",
    "        (changing_metrics,increment_metrics,static_metrics,decrement_metrics) = sort_metrics(file, initial_metrics, changing_metrics,increment_metrics,static_metrics,decrement_metrics)\n",
    "    #Use glob.glob('/filepath/**/*.csv', recursive=True) to access all csv files in given directory\n",
    "    #Send in all the lists as a tuple and reassign them all. Should be fine since all execution will finish before things get changed? Maybe use placeholders\n",
    "\n",
    "\n",
    "\n",
    "def identify_metric(string:str):\n",
    "    return string.split(\"&\")[0]\n",
    "\n",
    "#Two modes. One that runs through a lot of csvs and commits a final verdict.\n",
    "#Loads all metrics. Keeps internal buffer of: Static, changing, increment. \n",
    "#Move all metrics to static. Then check a metric one by one to see if it should be moved.\n",
    "#Also run through all increment bois and see if they exhibit different behaviour. How to see if they break a pattern like that? Gotta be able to check for decrement and increment\n",
    "#Can do a separate decrement but its kinda silly.\n",
    "#Should probably do pandas?\n",
    "\n"
   ]
  }
 ],
 "metadata": {
  "kernelspec": {
   "display_name": "Python 3",
   "language": "python",
   "name": "python3"
  },
  "language_info": {
   "codemirror_mode": {
    "name": "ipython",
    "version": 3
   },
   "file_extension": ".py",
   "mimetype": "text/x-python",
   "name": "python",
   "nbconvert_exporter": "python",
   "pygments_lexer": "ipython3",
   "version": "3.11.1 (tags/v3.11.1:a7a450f, Dec  6 2022, 19:58:39) [MSC v.1934 64 bit (AMD64)]"
  },
  "orig_nbformat": 4,
  "vscode": {
   "interpreter": {
    "hash": "3ecabe05d72c87138abd5588a1756d674ee9acb6f0f71aa26006671d9984b5b0"
   }
  }
 },
 "nbformat": 4,
 "nbformat_minor": 2
}
