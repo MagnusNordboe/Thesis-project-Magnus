{
 "cells": [
  {
   "cell_type": "code",
   "execution_count": 1,
   "metadata": {},
   "outputs": [
    {
     "data": {
      "text/plain": [
       "['first', 'second']"
      ]
     },
     "execution_count": 1,
     "metadata": {},
     "output_type": "execute_result"
    }
   ],
   "source": [
    "import csv\n",
    "import json\n",
    "import pandas\n",
    "\n",
    "def sort_metrics(input_file:str, metrics_file:str):\n",
    "    initial_metrics = json.load(metrics_file)\n",
    "    static_metrics = initial_metrics.data\n",
    "    changing_metrics = []\n",
    "    increment_metrics = []\n",
    "\n",
    "    \n",
    "    \n",
    "\n",
    "    \n",
    "\n",
    "def identify_metric(string:str):\n",
    "    return string.split(\"&\")[0]\n",
    "\n",
    "#Two modes. One that runs through a lot of csvs and commits a final verdict.\n",
    "#Loads all metrics. Keeps internal buffer of: Static, changing, increment. \n",
    "#Move all metrics to static. Then check a metric one by one to see if it should be moved.\n",
    "#Also run through all increment bois and see if they exhibit different behaviour. How to see if they break a pattern like that? Gotta be able to check for decrement and increment\n",
    "#Can do a separate decrement but its kinda silly.\n",
    "#Should probably do pandas?\n",
    "\n"
   ]
  }
 ],
 "metadata": {
  "kernelspec": {
   "display_name": "Python 3",
   "language": "python",
   "name": "python3"
  },
  "language_info": {
   "codemirror_mode": {
    "name": "ipython",
    "version": 3
   },
   "file_extension": ".py",
   "mimetype": "text/x-python",
   "name": "python",
   "nbconvert_exporter": "python",
   "pygments_lexer": "ipython3",
   "version": "3.10.9 (main, Dec 19 2022, 17:35:49) [GCC 12.2.0]"
  },
  "orig_nbformat": 4,
  "vscode": {
   "interpreter": {
    "hash": "e7370f93d1d0cde622a1f8e1c04877d8463912d04d973331ad4851f04de6915a"
   }
  }
 },
 "nbformat": 4,
 "nbformat_minor": 2
}
