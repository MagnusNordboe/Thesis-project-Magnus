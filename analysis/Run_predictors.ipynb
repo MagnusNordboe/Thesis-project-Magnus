{
 "cells": [
  {
   "cell_type": "code",
   "execution_count": 1,
   "metadata": {},
   "outputs": [],
   "source": [
    "import pandas as pd\n",
    "import numpy as np\n",
    "import sktime\n",
    "import seaborn as snsc\n",
    "import matplotlib.pyplot as plt\n",
    "from convertcsv.import_preprocess_v4 import readcsvs\n",
    "from sklearn.model_selection import train_test_split\n",
    "from sklearn.pipeline import Pipeline\n",
    "from sklearn.preprocessing import StandardScaler\n",
    "from sklearn.preprocessing import MinMaxScaler\n",
    "from sktime.transformations.panel.rocket import Rocket\n",
    "from sktime.transformations.panel.rocket import MiniRocketMultivariate\n",
    "from sktime.classification.kernel_based import RocketClassifier\n",
    "from sklearn.linear_model import RidgeClassifierCV\n",
    "from sklearn.impute import KNNImputer\n",
    "from convertcsv.get_all_metrics_with_tags import get_all_metrics_with_tags\n",
    "from visualization import graphs\n",
    "from sklearn.metrics import mean_squared_error\n",
    "from sklearn.metrics import r2_score\n",
    "from sktime.datatypes import convert_to\n",
    "from sktime.datatypes import MTYPE_REGISTER\n",
    "from collections import Counter\n",
    "from sktime.classification.interval_based import TimeSeriesForestClassifier\n",
    "from sktime.classification.compose import ClassifierPipeline\n",
    "from storage.retrieve_csv import retrieve_csv\n",
    "from storage.store_csv import store_csv"
   ]
  },
  {
   "cell_type": "code",
   "execution_count": 9,
   "metadata": {},
   "outputs": [
    {
     "data": {
      "text/plain": [
       "32"
      ]
     },
     "execution_count": 9,
     "metadata": {},
     "output_type": "execute_result"
    }
   ],
   "source": [
    "X, y = retrieve_csv(\"scaled_and_trimmed\")\n",
    "variances = pd.read_json(\"./storage/sorted_variance.json\",orient=\"index\")\n",
    "variances.size"
   ]
  },
  {
   "cell_type": "code",
   "execution_count": 3,
   "metadata": {},
   "outputs": [],
   "source": [
    "class Try_Classifiers:\n",
    "    #Goal: run the various classifiers. Do Normalization/standarization outside of this function.\n",
    "    #Then in here, only classifiers should be needed. All classifiers implement fit and fit_transform as well as fit_predict.\n",
    "    #If there are multiple classes that passed in, make the pipeline fit_transform -> fit_predict. Otherwise just fit_predict.\n",
    "    \n",
    "    def __init__(self, X_train:pd.DataFrame, y_train=None, X_test=None, y_test=None):\n",
    "        self.formats = [self.format_dflist, self.format_multiindex, self.format_multiindex_manual, self.format_multiindex_dflist]\n",
    "        self.X_train_cols = X_train.columns\n",
    "        self.X_train_index = X_train.index\n",
    "        self.X_train = X_train\n",
    "        if y_train is not None:\n",
    "            self.y_train = y_train\n",
    "        if X_test is not None:\n",
    "            self.X_test = X_test\n",
    "        if y_test is not None:\n",
    "            self.y_test = y_test\n",
    "\n",
    "\n",
    "    def _try_function_with_formats(self, class_function, X, y=None):\n",
    "        latestexception:Exception\n",
    "        try:\n",
    "            result = None\n",
    "            if y is not None:\n",
    "                result = class_function(X, y)\n",
    "            else:\n",
    "                result = class_function(X)\n",
    "            return result, True\n",
    "        except Exception as e:    \n",
    "            latestexception = e      \n",
    "            for fmt in self.formats:\n",
    "                try:\n",
    "                    formatted_X = fmt(X)\n",
    "                    result = None\n",
    "                    if y is not None: \n",
    "                        result = class_function(formatted_X, y)\n",
    "                    else:\n",
    "                        result = class_function(formatted_X)\n",
    "                    return result, True\n",
    "                except Exception as e:\n",
    "                    latestexception = e\n",
    "                    continue\n",
    "            print(latestexception)\n",
    "            return None, False\n",
    "    \n",
    "    def format_dflist(self, input):\n",
    "        return convert_to(input, to_type=\"df-list\")\n",
    "\n",
    "    def format_multiindex(self, input):\n",
    "        return convert_to(input, to_type=\"pd-multiindex\")\n",
    "\n",
    "    def format_multiindex_manual(self, input):\n",
    "        return pd.DataFrame(input, columns=self.X_train_cols, index=self.X_train_index)\n",
    "    \n",
    "    def format_multiindex_dflist(self, input):\n",
    "        return convert_to(pd.DataFrame(input, columns=self.X_train_cols, index=self.X_train_index), to_type=\"df-list\")\n",
    "\n",
    "    def run_fit_predict_single(self, class_to_use):\n",
    "        \n",
    "        result, completed = self._try_function_with_formats(class_to_use.fit,self.X_train, self.y_train)\n",
    "        \n",
    "        if not completed:\n",
    "            return Exception(\"Couldn't fit\")\n",
    "\n",
    "        if hasattr(class_to_use, 'score'):\n",
    "            score, completed = self._try_function_with_formats(class_to_use.predict, self.X_test, self.y_test)\n",
    "        else:\n",
    "            prediction, completed = self._try_function_with_formats(class_to_use.predict, self.X_test)\n",
    "            score = np.mean(prediction == y_test)\n",
    "            \n",
    "        \n",
    "        if not completed:\n",
    "            return Exception(\"Something went wrong\")\n",
    "\n",
    "#It runs the local fit function before sending it to the loop that catches exceptions\n",
    "#The way to fix this is make sure that the fit and predict functions happen inside the loop. It has to handle multiple inputs or just one\n"
   ]
  },
  {
   "cell_type": "code",
   "execution_count": 4,
   "metadata": {},
   "outputs": [],
   "source": [
    "def calculate_variance(df:pd.DataFrame) ->pd.Series:\n",
    "    #The coefficient of variation\n",
    "    cv = df.std() / df.mean()\n",
    "    return cv.round(10).sort_values(ascending=False)"
   ]
  },
  {
   "cell_type": "code",
   "execution_count": 6,
   "metadata": {},
   "outputs": [
    {
     "data": {
      "text/plain": [
       "Index(['go_memstats_heap_idle_bytes&catalogue:80&catalogue',\n",
       "       'go_memstats_mspan_inuse_bytes&catalogue:80&catalogue',\n",
       "       'go_memstats_alloc_bytes&catalogue:80&catalogue',\n",
       "       'go_memstats_heap_alloc_bytes&catalogue:80&catalogue',\n",
       "       'go_memstats_stack_sys_bytes&user:80&user'],\n",
       "      dtype='object')"
      ]
     },
     "execution_count": 6,
     "metadata": {},
     "output_type": "execute_result"
    }
   ],
   "source": [
    "def select_by_variance(df:pd.DataFrame, amount:int):\n",
    "    variances:pd.Series = calculate_variance(df)\n",
    "    selection = variances.iloc[0:amount]\n",
    "    return selection.index\n",
    "best_features = select_by_variance(X, 5)\n",
    "X = X[best_features]\n",
    "best_features"
   ]
  }
 ],
 "metadata": {
  "kernelspec": {
   "display_name": "Python 3",
   "language": "python",
   "name": "python3"
  },
  "language_info": {
   "codemirror_mode": {
    "name": "ipython",
    "version": 3
   },
   "file_extension": ".py",
   "mimetype": "text/x-python",
   "name": "python",
   "nbconvert_exporter": "python",
   "pygments_lexer": "ipython3",
   "version": "3.9.16"
  },
  "orig_nbformat": 4
 },
 "nbformat": 4,
 "nbformat_minor": 2
}
