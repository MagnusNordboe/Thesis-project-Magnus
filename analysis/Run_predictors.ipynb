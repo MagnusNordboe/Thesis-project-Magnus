{
 "cells": [
  {
   "cell_type": "code",
   "execution_count": 1,
   "metadata": {},
   "outputs": [],
   "source": [
    "import pandas as pd\n",
    "import numpy as np\n",
    "import sktime\n",
    "import seaborn as snsc\n",
    "import matplotlib.pyplot as plt\n",
    "from convertcsv.import_preprocess_v4 import readcsvs\n",
    "from sklearn.model_selection import train_test_split\n",
    "from sklearn.pipeline import Pipeline\n",
    "from sklearn.preprocessing import StandardScaler\n",
    "from sklearn.preprocessing import MinMaxScaler\n",
    "from sktime.transformations.panel.rocket import Rocket\n",
    "from sktime.transformations.panel.rocket import MiniRocketMultivariate\n",
    "from sktime.classification.kernel_based import RocketClassifier\n",
    "from sklearn.linear_model import RidgeClassifierCV\n",
    "from sklearn.impute import KNNImputer\n",
    "from convertcsv.get_all_metrics_with_tags import get_all_metrics_with_tags\n",
    "from visualization import graphs\n",
    "from sklearn.metrics import mean_squared_error\n",
    "from sklearn.metrics import r2_score\n",
    "from sktime.datatypes import convert_to\n",
    "from sktime.datatypes import MTYPE_REGISTER\n",
    "from collections import Counter\n",
    "from sktime.classification.interval_based import TimeSeriesForestClassifier\n",
    "from sktime.classification.compose import ClassifierPipeline\n",
    "from storage.retrieve_csv import retrieve_csv\n",
    "from storage.store_csv import store_csv"
   ]
  },
  {
   "cell_type": "code",
   "execution_count": 2,
   "metadata": {},
   "outputs": [
    {
     "data": {
      "text/plain": [
       "32"
      ]
     },
     "execution_count": 2,
     "metadata": {},
     "output_type": "execute_result"
    }
   ],
   "source": [
    "X, y = retrieve_csv(\"scaled_and_trimmed\")\n",
    "variances = pd.read_json(\"./storage/sorted_variance.json\",orient=\"index\")\n",
    "variances.size"
   ]
  },
  {
   "cell_type": "code",
   "execution_count": 56,
   "metadata": {},
   "outputs": [],
   "source": [
    "class Try_Classifiers:\n",
    "    #Then in here, only classifiers should be needed. All classifiers implement fit and fit_transform as well as fit_predict.\n",
    "    #If there are multiple classes that passed in, make the pipeline fit_transform -> fit_predict. Otherwise just fit_predict.\n",
    "    \n",
    "    def __init__(self, X_train:list, y_train=None, X_test=None, y_test=None):\n",
    "        self.formats = [self.format_nested]\n",
    "        # self.X_train_cols = X_train.columns\n",
    "        # self.X_train_index = X_train.index\n",
    "        self.X_train = X_train\n",
    "        if y_train is not None:\n",
    "            self.y_train = y_train\n",
    "        if X_test is not None:\n",
    "            self.X_test = X_test\n",
    "        if y_test is not None:\n",
    "            self.y_test = y_test\n",
    "\n",
    "\n",
    "    def _try_function_with_formats(self, class_function, X, y=None):\n",
    "        latestexception:Exception\n",
    "        try:\n",
    "            result = None\n",
    "            if y is not None:\n",
    "                result = class_function(X, y)\n",
    "            else:\n",
    "                result = class_function(X)\n",
    "            return result, True\n",
    "        except Exception as e:    \n",
    "            latestexception = e   \n",
    "            result = None   \n",
    "            for fmt in self.formats:\n",
    "                try:\n",
    "                    formatted_X = fmt(X)\n",
    "                    result = None\n",
    "                    if y is not None: \n",
    "                        result = class_function(formatted_X, y)\n",
    "                        return result, True\n",
    "                        \n",
    "                    else:\n",
    "                        result = class_function(formatted_X)\n",
    "                    return result, True\n",
    "                except Exception as e:\n",
    "                    latestexception = e\n",
    "                    continue\n",
    "            print(latestexception)\n",
    "            return result, True\n",
    "    \n",
    "    def format_dflist(self, input):\n",
    "        return convert_to(input, to_type=\"df-list\")\n",
    "\n",
    "    def format_multiindex(self, input):\n",
    "        return convert_to(input, to_type=\"pd-multiindex\")\n",
    "\n",
    "    def format_nested(self, input):\n",
    "        series_list = [pd.Series([df.to_numpy()]) for df in dfs]\n",
    "        nested_df = pd.concat(series_list, axis=1).T\n",
    "        nested_df.columns = [\"time_series\"]\n",
    "        return nested_df\n",
    "\n",
    "\n",
    "    def format_multiindex_manual(self, input):\n",
    "        return pd.DataFrame(input, columns=self.X_train_cols, index=self.X_train_index)\n",
    "    \n",
    "    def format_multiindex_dflist(self, input):\n",
    "        return convert_to(pd.DataFrame(input, columns=self.X_train_cols, index=self.X_train_index), to_type=\"df-list\")\n",
    "\n",
    "    def run_fit_predict_single(self, class_to_use):\n",
    "        \n",
    "        result, completed = self._try_function_with_formats(class_to_use.fit,self.X_train, self.y_train)\n",
    "        \n",
    "        if not completed:\n",
    "            return Exception(\"Couldn't fit\")\n",
    "\n",
    "        if hasattr(class_to_use, 'score'):\n",
    "            score, completed = self._try_function_with_formats(class_to_use.predict, self.X_test, self.y_test)\n",
    "        else:\n",
    "            prediction, completed = self._try_function_with_formats(class_to_use.predict, self.X_test)\n",
    "            score = np.mean(prediction == self.y_test)\n",
    "            \n",
    "        \n",
    "        if not completed:\n",
    "            return Exception(\"Something went wrong\")\n",
    "\n",
    "#It runs the local fit function before sending it to the loop that catches exceptions\n",
    "#The way to fix this is make sure that the fit and predict functions happen inside the loop. It has to handle multiple inputs or just one\n"
   ]
  },
  {
   "cell_type": "code",
   "execution_count": 3,
   "metadata": {},
   "outputs": [],
   "source": [
    "def calculate_variance(df:pd.DataFrame) ->pd.Series:\n",
    "    #The coefficient of variation\n",
    "    cv = df.std() / df.mean()\n",
    "    return cv.round(10).sort_values(ascending=False)"
   ]
  },
  {
   "cell_type": "code",
   "execution_count": 4,
   "metadata": {},
   "outputs": [],
   "source": [
    "def select_by_variance(df:pd.DataFrame, amount:int):\n",
    "    variances:pd.Series = calculate_variance(df)\n",
    "    selection = variances.iloc[0:amount]\n",
    "    return selection.index\n",
    "best_features = select_by_variance(X, 3)\n",
    "X = X[best_features]\n"
   ]
  },
  {
   "cell_type": "code",
   "execution_count": 51,
   "metadata": {},
   "outputs": [],
   "source": [
    "\n",
    "# df_list = [group.reset_index(level=0,drop=True) for _, group in X.groupby(level=0)]\n",
    "\n",
    "# # Convert each dataframe to have a multiindex\n",
    "# X_train = [df.assign(outer=i).set_index(['outer', df.index]) for i, df in enumerate(X_train)]\n",
    "# X_train = pd.concat(X_train)\n",
    "# X_test = [df.assign(outer=i).set_index(['outer', df.index]) for i, df in enumerate(X_test)]\n",
    "# X_test = pd.concat(X_test)\n",
    "\n",
    "outer_index = X.index.get_level_values(0).unique()\n",
    "#X.xs(1, level='instances',drop_level=True)\n",
    "df_list = []\n",
    "\n",
    "for level in outer_index:\n",
    "    df_list.append(X.loc[level])\n",
    "\n",
    "\n",
    "X_train, X_test, y_train, y_test = train_test_split(df_list, y)\n"
   ]
  },
  {
   "cell_type": "code",
   "execution_count": 49,
   "metadata": {},
   "outputs": [],
   "source": [
    "#In this one, let's run with only the top 3. Run through many predictors.\n",
    "# Importing necessary libraries\n",
    "import numpy as np\n",
    "from sktime.classification.interval_based import TimeSeriesForestClassifier\n",
    "from sktime.classification.compose import ColumnEnsembleClassifier\n",
    "from sktime.classification.dictionary_based import BOSSEnsemble\n",
    "from sktime.transformations.panel.compose import ColumnConcatenator\n",
    "from sklearn.ensemble import RandomForestClassifier\n",
    "from sklearn.pipeline import make_pipeline\n",
    "\n",
    "# Initiate sktime classifiers\n",
    "tsf = TimeSeriesForestClassifier()\n",
    "boss = BOSSEnsemble()\n",
    "\n",
    "# A multivariate time series can be thought of as a table of univariate time series.\n",
    "# sktime's ColumnEnsembleClassifier treats each column (univariate time series) as a separate classification task and then aggregates predictions.\n",
    "# Here we demonstrate it with TSF, but you can replace it with other sktime classifiers.\n",
    "column_ens = ColumnEnsembleClassifier(estimators=[\n",
    "    (\"TSF0\", TimeSeriesForestClassifier(), [0]),\n",
    "    (\"TSF1\", TimeSeriesForestClassifier(), [1])\n",
    "    # ... you can add more columns as necessary\n",
    "])\n",
    "\n",
    "# For sklearn classifiers, you'd typically need to transform the time series data into a tabular format.\n",
    "# Here's an example using RandomForestClassifier from sklearn with ColumnConcatenator from sktime:\n",
    "concatenator = ColumnConcatenator()\n",
    "sklearn_classifier = make_pipeline(concatenator, RandomForestClassifier())\n",
    "\n",
    "# List of all classifiers\n",
    "classifiers = [tsf, boss,  column_ens, sklearn_classifier]\n",
    "\n",
    "# You can now loop through `classifiers` to train and evaluate them.\n",
    "looper = Try_Classifiers(X_train, y_train, X_test, y_test)\n"
   ]
  },
  {
   "cell_type": "code",
   "execution_count": 62,
   "metadata": {},
   "outputs": [
    {
     "ename": "TypeError",
     "evalue": "X is not of a supported input data type.X must be in a supported mtype format for Panel, found <class 'pandas.core.series.Series'>Use datatypes.check_is_mtype to check conformance with specifications.",
     "output_type": "error",
     "traceback": [
      "\u001b[0;31m---------------------------------------------------------------------------\u001b[0m",
      "\u001b[0;31mTypeError\u001b[0m                                 Traceback (most recent call last)",
      "Cell \u001b[0;32mIn[62], line 17\u001b[0m\n\u001b[1;32m     14\u001b[0m     clf\u001b[39m.\u001b[39mfit(nested_df, y)\n\u001b[1;32m     16\u001b[0m tsf \u001b[39m=\u001b[39m TimeSeriesForestClassifier()\n\u001b[0;32m---> 17\u001b[0m nested_xtrain \u001b[39m=\u001b[39m format_nested(X_train)\n\u001b[1;32m     18\u001b[0m tsf\u001b[39m.\u001b[39mfit(nested_xtrain, y_train)\n",
      "Cell \u001b[0;32mIn[62], line 14\u001b[0m, in \u001b[0;36mformat_nested\u001b[0;34m(input)\u001b[0m\n\u001b[1;32m     12\u001b[0m \u001b[39m# Train classifier\u001b[39;00m\n\u001b[1;32m     13\u001b[0m clf \u001b[39m=\u001b[39m TimeSeriesForestClassifier()\n\u001b[0;32m---> 14\u001b[0m clf\u001b[39m.\u001b[39;49mfit(nested_df, y)\n",
      "File \u001b[0;32m~/.pyenv/versions/3.9.16/lib/python3.9/site-packages/sktime/classification/interval_based/_tsf.py:111\u001b[0m, in \u001b[0;36mTimeSeriesForestClassifier.fit\u001b[0;34m(self, X, y, **kwargs)\u001b[0m\n\u001b[1;32m    103\u001b[0m \u001b[39mdef\u001b[39;00m \u001b[39mfit\u001b[39m(\u001b[39mself\u001b[39m, X, y, \u001b[39m*\u001b[39m\u001b[39m*\u001b[39mkwargs):\n\u001b[1;32m    104\u001b[0m \u001b[39m    \u001b[39m\u001b[39m\"\"\"Wrap fit to call BaseClassifier.fit.\u001b[39;00m\n\u001b[1;32m    105\u001b[0m \n\u001b[1;32m    106\u001b[0m \u001b[39m    This is a fix to get around the problem with multiple inheritance. The\u001b[39;00m\n\u001b[0;32m   (...)\u001b[0m\n\u001b[1;32m    109\u001b[0m \u001b[39m    albeit a little hacky.\u001b[39;00m\n\u001b[1;32m    110\u001b[0m \u001b[39m    \"\"\"\u001b[39;00m\n\u001b[0;32m--> 111\u001b[0m     \u001b[39mreturn\u001b[39;00m BaseClassifier\u001b[39m.\u001b[39;49mfit(\u001b[39mself\u001b[39;49m, X\u001b[39m=\u001b[39;49mX, y\u001b[39m=\u001b[39;49my, \u001b[39m*\u001b[39;49m\u001b[39m*\u001b[39;49mkwargs)\n",
      "File \u001b[0;32m~/.pyenv/versions/3.9.16/lib/python3.9/site-packages/sktime/classification/base.py:156\u001b[0m, in \u001b[0;36mBaseClassifier.fit\u001b[0;34m(self, X, y)\u001b[0m\n\u001b[1;32m    153\u001b[0m \u001b[39m# convenience conversions to allow user flexibility:\u001b[39;00m\n\u001b[1;32m    154\u001b[0m \u001b[39m# if X is 2D array, convert to 3D, if y is Series, convert to numpy\u001b[39;00m\n\u001b[1;32m    155\u001b[0m X, y \u001b[39m=\u001b[39m \u001b[39mself\u001b[39m\u001b[39m.\u001b[39m_internal_convert(X, y)\n\u001b[0;32m--> 156\u001b[0m X_metadata \u001b[39m=\u001b[39m \u001b[39mself\u001b[39;49m\u001b[39m.\u001b[39;49m_check_classifier_input(X, y)\n\u001b[1;32m    157\u001b[0m missing \u001b[39m=\u001b[39m X_metadata[\u001b[39m\"\u001b[39m\u001b[39mhas_nans\u001b[39m\u001b[39m\"\u001b[39m]\n\u001b[1;32m    158\u001b[0m multivariate \u001b[39m=\u001b[39m \u001b[39mnot\u001b[39;00m X_metadata[\u001b[39m\"\u001b[39m\u001b[39mis_univariate\u001b[39m\u001b[39m\"\u001b[39m]\n",
      "File \u001b[0;32m~/.pyenv/versions/3.9.16/lib/python3.9/site-packages/sktime/classification/base.py:698\u001b[0m, in \u001b[0;36mBaseClassifier._check_classifier_input\u001b[0;34m(self, X, y, enforce_min_instances)\u001b[0m\n\u001b[1;32m    694\u001b[0m X_valid, _, X_metadata \u001b[39m=\u001b[39m check_is_scitype(\n\u001b[1;32m    695\u001b[0m     X, scitype\u001b[39m=\u001b[39m\u001b[39m\"\u001b[39m\u001b[39mPanel\u001b[39m\u001b[39m\"\u001b[39m, return_metadata\u001b[39m=\u001b[39m\u001b[39mTrue\u001b[39;00m\n\u001b[1;32m    696\u001b[0m )\n\u001b[1;32m    697\u001b[0m \u001b[39mif\u001b[39;00m \u001b[39mnot\u001b[39;00m X_valid:\n\u001b[0;32m--> 698\u001b[0m     \u001b[39mraise\u001b[39;00m \u001b[39mTypeError\u001b[39;00m(\n\u001b[1;32m    699\u001b[0m         \u001b[39mf\u001b[39m\u001b[39m\"\u001b[39m\u001b[39mX is not of a supported input data type.\u001b[39m\u001b[39m\"\u001b[39m\n\u001b[1;32m    700\u001b[0m         \u001b[39mf\u001b[39m\u001b[39m\"\u001b[39m\u001b[39mX must be in a supported mtype format for Panel, found \u001b[39m\u001b[39m{\u001b[39;00m\u001b[39mtype\u001b[39m(X)\u001b[39m}\u001b[39;00m\u001b[39m\"\u001b[39m\n\u001b[1;32m    701\u001b[0m         \u001b[39mf\u001b[39m\u001b[39m\"\u001b[39m\u001b[39mUse datatypes.check_is_mtype to check conformance \u001b[39m\u001b[39m\"\u001b[39m\n\u001b[1;32m    702\u001b[0m         \u001b[39m\"\u001b[39m\u001b[39mwith specifications.\u001b[39m\u001b[39m\"\u001b[39m\n\u001b[1;32m    703\u001b[0m     )\n\u001b[1;32m    704\u001b[0m n_cases \u001b[39m=\u001b[39m X_metadata[\u001b[39m\"\u001b[39m\u001b[39mn_instances\u001b[39m\u001b[39m\"\u001b[39m]\n\u001b[1;32m    705\u001b[0m \u001b[39mif\u001b[39;00m n_cases \u001b[39m<\u001b[39m enforce_min_instances:\n",
      "\u001b[0;31mTypeError\u001b[0m: X is not of a supported input data type.X must be in a supported mtype format for Panel, found <class 'pandas.core.series.Series'>Use datatypes.check_is_mtype to check conformance with specifications."
     ]
    }
   ],
   "source": [
    "def format_nested(input):\n",
    "    # Convert list of DataFrames to a truly nested DataFrame\n",
    "    #series_list = [pd.Series([df.to_numpy()]) for df in input]\n",
    "\n",
    "# Create a truly nested DataFrame\n",
    "    series_list = [df.to_numpy() for df in input]\n",
    "    nested_df = pd.DataFrame(series_list, columns=[\"series\"])\n",
    "\n",
    "\n",
    "    # Train classifier\n",
    "    clf = TimeSeriesForestClassifier()\n",
    "    clf.fit(nested_df, y)\n",
    "\n",
    "tsf = TimeSeriesForestClassifier()\n",
    "nested_xtrain = format_nested(X_train)\n",
    "tsf.fit(nested_xtrain, y_train)"
   ]
  },
  {
   "cell_type": "code",
   "execution_count": 57,
   "metadata": {},
   "outputs": [
    {
     "name": "stdout",
     "output_type": "stream",
     "text": [
      "X is not of a supported input data type.X must be in a supported mtype format for Panel, found <class 'list'>Use datatypes.check_is_mtype to check conformance with specifications.\n"
     ]
    },
    {
     "data": {
      "text/plain": [
       "(None, False)"
      ]
     },
     "execution_count": 57,
     "metadata": {},
     "output_type": "execute_result"
    }
   ],
   "source": [
    "looper._try_function_with_formats(tsf.fit_predict, X_train, y_train)"
   ]
  }
 ],
 "metadata": {
  "kernelspec": {
   "display_name": "Python 3",
   "language": "python",
   "name": "python3"
  },
  "language_info": {
   "codemirror_mode": {
    "name": "ipython",
    "version": 3
   },
   "file_extension": ".py",
   "mimetype": "text/x-python",
   "name": "python",
   "nbconvert_exporter": "python",
   "pygments_lexer": "ipython3",
   "version": "3.9.16"
  },
  "orig_nbformat": 4
 },
 "nbformat": 4,
 "nbformat_minor": 2
}
