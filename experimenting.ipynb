{
 "cells": [
  {
   "cell_type": "code",
   "execution_count": 16,
   "metadata": {},
   "outputs": [
    {
     "name": "stdout",
     "output_type": "stream",
     "text": [
      "63c00988ee11cb000112bb85\n",
      "creds:  Basic eWFib2ppOnlhYm9qaQ==\n",
      "Cookie is set 200 OK\n",
      "\"{\\\"status\\\":true}\\n\"\n"
     ]
    }
   ],
   "source": [
    "import requests\n",
    "from datetime import datetime\n",
    "import string\n",
    "import random\n",
    "import base64\n",
    "\n",
    "\n",
    "def createcreds(usr,pwd):\n",
    "    input = \"\" + usr + \":\" + pwd\n",
    "    return \"Basic \" + base64.b64encode(input.encode(\"ascii\")).decode(\"ascii\")\n",
    "\n",
    "def get_random_string(length):\n",
    "    # choose from all lowercase letter\n",
    "    letters = string.ascii_lowercase\n",
    "    result_str = ''.join(random.choice(letters) for i in range(length))\n",
    "    return result_str\n",
    "# response = requests.get('http://host.docker.internal/register', json={\n",
    "#     \"username\": \"yggo\",\n",
    "#     \"password\": \"qwerty\",\n",
    "#     \"email\": \"tesit@exmaple.com\"\n",
    "#     })\n",
    "now = \"yaboji\"\n",
    "response = requests.post(\"http://host.docker.internal/register\",json={\"username\": now, \"password\":now, \"email\": now} )\n",
    "text = response.json()\n",
    "print(text[\"id\"])\n",
    "if response.ok:\n",
    "    creds = createcreds(now, now)\n",
    "    print(\"creds: \",creds)\n",
    "    loginattempt = requests.get(\"http://host.docker.internal/login\", headers={\"Authorization\":creds})\n",
    "    print(loginattempt.text, loginattempt.status_code, loginattempt.reason)\n",
    "    dele = requests.delete(\"http://host.docker.internal/customers/\" + text[\"id\"])\n",
    "    print(dele.text)\n",
    "\n",
    "    #requests.get(\"/login\", headers={\"Authorization\":createcreds(randomstring, \"qwerty\")})\n",
    "\n",
    "\n",
    "# now = get_random_string(random.choice([4,5,6,7,8,9]))\n",
    "# response = requests.post(\"http://host.docker.internal/register\", json={\"username\": now, \"password\":\"qwerty\", \"email\": now } )\n",
    "# id = response\n",
    "# #\n",
    "# loginres = requests.get(\"/login\", headers={\"Authorization\":createcreds(now, \"qwerty\")})\n",
    "# print(id)"
   ]
  },
  {
   "cell_type": "code",
   "execution_count": 15,
   "metadata": {},
   "outputs": [
    {
     "name": "stdout",
     "output_type": "stream",
     "text": [
      "bG9jdXN0OmxvY3VzdA==\n"
     ]
    }
   ],
   "source": [
    "import base64\n",
    "\n",
    "input = \"locust:locust\"\n",
    "bytes = input.encode(\"ascii\")\n",
    "base64_bytes = base64.b64encode(bytes)\n",
    "base64_string = base64_bytes.decode(\"ascii\")\n",
    "\n",
    "\n",
    "print(base64.b64encode(input.encode(\"ascii\")).decode(\"ascii\"))"
   ]
  },
  {
   "cell_type": "code",
   "execution_count": 5,
   "metadata": {},
   "outputs": [
    {
     "name": "stdout",
     "output_type": "stream",
     "text": [
      "['ab', 'cd']\n"
     ]
    }
   ],
   "source": [
    "string = \"abscd\"\n",
    "splitter = string.split(\"s\",2)\n",
    "print(splitter)"
   ]
  }
 ],
 "metadata": {
  "kernelspec": {
   "display_name": "Python 3",
   "language": "python",
   "name": "python3"
  },
  "language_info": {
   "codemirror_mode": {
    "name": "ipython",
    "version": 3
   },
   "file_extension": ".py",
   "mimetype": "text/x-python",
   "name": "python",
   "nbconvert_exporter": "python",
   "pygments_lexer": "ipython3",
   "version": "3.11.1 (tags/v3.11.1:a7a450f, Dec  6 2022, 19:58:39) [MSC v.1934 64 bit (AMD64)]"
  },
  "orig_nbformat": 4,
  "vscode": {
   "interpreter": {
    "hash": "3ecabe05d72c87138abd5588a1756d674ee9acb6f0f71aa26006671d9984b5b0"
   }
  }
 },
 "nbformat": 4,
 "nbformat_minor": 2
}
