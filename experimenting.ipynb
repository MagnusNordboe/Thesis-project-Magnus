{
 "cells": [
  {
   "cell_type": "code",
   "execution_count": 11,
   "metadata": {},
   "outputs": [
    {
     "name": "stdout",
     "output_type": "stream",
     "text": [
      "<Response [200]>\n"
     ]
    }
   ],
   "source": [
    "import requests\n",
    "from datetime import datetime\n",
    "import string\n",
    "import random\n",
    "\n",
    "def get_random_string(length):\n",
    "    # choose from all lowercase letter\n",
    "    letters = string.ascii_lowercase\n",
    "    result_str = ''.join(random.choice(letters) for i in range(length))\n",
    "    return result_str\n",
    "# response = requests.get('http://host.docker.internal/register', json={\n",
    "#     \"username\": \"yggo\",\n",
    "#     \"password\": \"qwerty\",\n",
    "#     \"email\": \"tesit@exmaple.com\"\n",
    "#     })\n",
    "# now = \"yaboji\"\n",
    "# response = requests.post(\"http://host.docker.internal/register\",json={\"username\": now, \"password\":\"qwerty\", \"email\": now} )\n",
    "# text = response.json()\n",
    "# print(text[\"id\"])\n",
    "\n",
    "now = get_random_string(random.choice([4,5,6,7,8,9]))\n",
    "response = requests.post(\"http://host.docker.internal/register\", json={\"username\": now, \"password\":\"qwerty\", \"email\": now } )\n",
    "id = response\n",
    "#\n",
    "# loginres = requests.get(\"/login\", headers={\"Authorization\":createcreds(now, \"qwerty\")})\n",
    "print(id)"
   ]
  },
  {
   "cell_type": "code",
   "execution_count": 15,
   "metadata": {},
   "outputs": [
    {
     "name": "stdout",
     "output_type": "stream",
     "text": [
      "bG9jdXN0OmxvY3VzdA==\n"
     ]
    }
   ],
   "source": [
    "import base64\n",
    "\n",
    "input = \"locust:locust\"\n",
    "bytes = input.encode(\"ascii\")\n",
    "base64_bytes = base64.b64encode(bytes)\n",
    "base64_string = base64_bytes.decode(\"ascii\")\n",
    "\n",
    "\n",
    "print(base64.b64encode(input.encode(\"ascii\")).decode(\"ascii\"))"
   ]
  }
 ],
 "metadata": {
  "kernelspec": {
   "display_name": "Python 3",
   "language": "python",
   "name": "python3"
  },
  "language_info": {
   "codemirror_mode": {
    "name": "ipython",
    "version": 3
   },
   "file_extension": ".py",
   "mimetype": "text/x-python",
   "name": "python",
   "nbconvert_exporter": "python",
   "pygments_lexer": "ipython3",
   "version": "3.11.1"
  },
  "orig_nbformat": 4,
  "vscode": {
   "interpreter": {
    "hash": "3ecabe05d72c87138abd5588a1756d674ee9acb6f0f71aa26006671d9984b5b0"
   }
  }
 },
 "nbformat": 4,
 "nbformat_minor": 2
}
