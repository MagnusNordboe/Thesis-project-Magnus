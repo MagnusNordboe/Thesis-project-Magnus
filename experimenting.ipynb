{
 "cells": [
  {
   "cell_type": "code",
   "execution_count": 12,
   "metadata": {},
   "outputs": [
    {
     "name": "stdout",
     "output_type": "stream",
     "text": [
      "63bd633eee11cb0001133f96\n"
     ]
    }
   ],
   "source": [
    "import requests\n",
    "\n",
    "# response = requests.get('http://host.docker.internal/register', json={\n",
    "#     \"username\": \"yggo\",\n",
    "#     \"password\": \"qwerty\",\n",
    "#     \"email\": \"tesit@exmaple.com\"\n",
    "#     })\n",
    "now = \"yaboji\"\n",
    "response = requests.post(\"http://host.docker.internal/register\",json={\"username\": now, \"password\":\"qwerty\", \"email\": now} )\n",
    "text = response.json()\n",
    "print(text[\"id\"])"
   ]
  },
  {
   "cell_type": "code",
   "execution_count": 15,
   "metadata": {},
   "outputs": [
    {
     "name": "stdout",
     "output_type": "stream",
     "text": [
      "bG9jdXN0OmxvY3VzdA==\n"
     ]
    }
   ],
   "source": [
    "import base64\n",
    "\n",
    "input = \"locust:locust\"\n",
    "bytes = input.encode(\"ascii\")\n",
    "base64_bytes = base64.b64encode(bytes)\n",
    "base64_string = base64_bytes.decode(\"ascii\")\n",
    "\n",
    "\n",
    "print(base64.b64encode(input.encode(\"ascii\")).decode(\"ascii\"))"
   ]
  }
 ],
 "metadata": {
  "kernelspec": {
   "display_name": "Python 3",
   "language": "python",
   "name": "python3"
  },
  "language_info": {
   "codemirror_mode": {
    "name": "ipython",
    "version": 3
   },
   "file_extension": ".py",
   "mimetype": "text/x-python",
   "name": "python",
   "nbconvert_exporter": "python",
   "pygments_lexer": "ipython3",
   "version": "3.11.1"
  },
  "orig_nbformat": 4,
  "vscode": {
   "interpreter": {
    "hash": "3ecabe05d72c87138abd5588a1756d674ee9acb6f0f71aa26006671d9984b5b0"
   }
  }
 },
 "nbformat": 4,
 "nbformat_minor": 2
}
